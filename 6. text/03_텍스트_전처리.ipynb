{
  "nbformat": 4,
  "nbformat_minor": 0,
  "metadata": {
    "colab": {
      "name": "03_텍스트_전처리.ipynb",
      "provenance": [],
      "collapsed_sections": []
    },
    "kernelspec": {
      "name": "python3",
      "display_name": "Python 3"
    },
    "language_info": {
      "name": "python"
    }
  },
  "cells": [
    {
      "cell_type": "markdown",
      "metadata": {
        "id": "p4Jp_FqE70-V"
      },
      "source": [
        "# 텍스트 전처리"
      ]
    },
    {
      "cell_type": "markdown",
      "metadata": {
        "id": "vZLhmVGH73qF"
      },
      "source": [
        "## 6. 정수 인코딩"
      ]
    },
    {
      "cell_type": "markdown",
      "metadata": {
        "id": "HQcSK-Sh8ItD"
      },
      "source": [
        "### 1) Counter 사용하기"
      ]
    },
    {
      "cell_type": "code",
      "metadata": {
        "id": "oA4tF-eb7xzk"
      },
      "source": [
        "from collections import Counter"
      ],
      "execution_count": 2,
      "outputs": []
    },
    {
      "cell_type": "code",
      "metadata": {
        "id": "tYIyG74-8Nlx"
      },
      "source": [
        "sentences = [\n",
        "             ['barber', 'person'],\n",
        "             ['barber', 'good', 'person'],\n",
        "             ['barber', 'huge', 'person'], \n",
        "             ['knew', 'secret'], \n",
        "             ['secret', 'kept', 'huge', 'secret'], \n",
        "             ['huge', 'secret'], \n",
        "             ['barber', 'kept', 'word'], \n",
        "             ['barber', 'kept', 'word'],\n",
        "             ['barber', 'kept', 'secret'],\n",
        "             ['keeping', 'keeping', 'huge', 'secret', 'driving', 'barber', 'crazy'],\n",
        "             ['barber', 'went', 'huge', 'mountain']\n",
        "          ]"
      ],
      "execution_count": 3,
      "outputs": []
    },
    {
      "cell_type": "code",
      "metadata": {
        "colab": {
          "base_uri": "https://localhost:8080/"
        },
        "id": "0RW9id5G_Pgd",
        "outputId": "08e17ee7-013c-4326-87ba-cf30f3d249b5"
      },
      "source": [
        "words = sum(sentences, [])\n",
        "print(words)"
      ],
      "execution_count": 4,
      "outputs": [
        {
          "output_type": "stream",
          "text": [
            "['barber', 'person', 'barber', 'good', 'person', 'barber', 'huge', 'person', 'knew', 'secret', 'secret', 'kept', 'huge', 'secret', 'huge', 'secret', 'barber', 'kept', 'word', 'barber', 'kept', 'word', 'barber', 'kept', 'secret', 'keeping', 'keeping', 'huge', 'secret', 'driving', 'barber', 'crazy', 'barber', 'went', 'huge', 'mountain']\n"
          ],
          "name": "stdout"
        }
      ]
    },
    {
      "cell_type": "code",
      "metadata": {
        "colab": {
          "base_uri": "https://localhost:8080/"
        },
        "id": "GcwJKlHL_TND",
        "outputId": "b6155640-0796-48a8-df2f-2fc976e69e33"
      },
      "source": [
        "vocab = Counter(words)\n",
        "vocab"
      ],
      "execution_count": 5,
      "outputs": [
        {
          "output_type": "execute_result",
          "data": {
            "text/plain": [
              "Counter({'barber': 8,\n",
              "         'crazy': 1,\n",
              "         'driving': 1,\n",
              "         'good': 1,\n",
              "         'huge': 5,\n",
              "         'keeping': 2,\n",
              "         'kept': 4,\n",
              "         'knew': 1,\n",
              "         'mountain': 1,\n",
              "         'person': 3,\n",
              "         'secret': 6,\n",
              "         'went': 1,\n",
              "         'word': 2})"
            ]
          },
          "metadata": {},
          "execution_count": 5
        }
      ]
    },
    {
      "cell_type": "code",
      "metadata": {
        "colab": {
          "base_uri": "https://localhost:8080/"
        },
        "id": "m2dbd9J9_o2H",
        "outputId": "9e364d74-67c2-46f7-c84a-c209fb7eb9be"
      },
      "source": [
        "top5 = vocab.most_common(5)\n",
        "top5"
      ],
      "execution_count": 7,
      "outputs": [
        {
          "output_type": "execute_result",
          "data": {
            "text/plain": [
              "[('barber', 8), ('secret', 6), ('huge', 5), ('kept', 4), ('person', 3)]"
            ]
          },
          "metadata": {},
          "execution_count": 7
        }
      ]
    },
    {
      "cell_type": "code",
      "metadata": {
        "colab": {
          "base_uri": "https://localhost:8080/"
        },
        "id": "dFsFGvaM_wDl",
        "outputId": "5deb51d8-052e-4c9e-b769-655908beb682"
      },
      "source": [
        "word_to_index = {}\n",
        "i = 0\n",
        "for word, freq in top5:\n",
        "  i += 1\n",
        "  word_to_index[word] = i\n",
        "word_to_index"
      ],
      "execution_count": 8,
      "outputs": [
        {
          "output_type": "execute_result",
          "data": {
            "text/plain": [
              "{'barber': 1, 'huge': 3, 'kept': 4, 'person': 5, 'secret': 2}"
            ]
          },
          "metadata": {},
          "execution_count": 8
        }
      ]
    },
    {
      "cell_type": "markdown",
      "metadata": {
        "id": "Tl5dJKQKBpCC"
      },
      "source": [
        "### 2) NLTK의 FreqDist 사용하기"
      ]
    },
    {
      "cell_type": "code",
      "metadata": {
        "id": "lLfhWwMPA1H3"
      },
      "source": [
        "from nltk import FreqDist\n",
        "import numpy as np"
      ],
      "execution_count": 9,
      "outputs": []
    },
    {
      "cell_type": "code",
      "metadata": {
        "colab": {
          "base_uri": "https://localhost:8080/"
        },
        "id": "M_23FRE3BwMu",
        "outputId": "af098eb0-9ba5-422c-d4b0-7132240b40c6"
      },
      "source": [
        "vocab = FreqDist(words)\n",
        "vocab['barber']"
      ],
      "execution_count": 10,
      "outputs": [
        {
          "output_type": "execute_result",
          "data": {
            "text/plain": [
              "8"
            ]
          },
          "metadata": {},
          "execution_count": 10
        }
      ]
    },
    {
      "cell_type": "code",
      "metadata": {
        "colab": {
          "base_uri": "https://localhost:8080/"
        },
        "id": "rEHojmzCB2_C",
        "outputId": "299dcd1c-52c4-4f12-efa1-e212e9508507"
      },
      "source": [
        "vocab"
      ],
      "execution_count": 11,
      "outputs": [
        {
          "output_type": "execute_result",
          "data": {
            "text/plain": [
              "FreqDist({'barber': 8,\n",
              "          'crazy': 1,\n",
              "          'driving': 1,\n",
              "          'good': 1,\n",
              "          'huge': 5,\n",
              "          'keeping': 2,\n",
              "          'kept': 4,\n",
              "          'knew': 1,\n",
              "          'mountain': 1,\n",
              "          'person': 3,\n",
              "          'secret': 6,\n",
              "          'went': 1,\n",
              "          'word': 2})"
            ]
          },
          "metadata": {},
          "execution_count": 11
        }
      ]
    },
    {
      "cell_type": "code",
      "metadata": {
        "colab": {
          "base_uri": "https://localhost:8080/"
        },
        "id": "0AMbY7-mB36P",
        "outputId": "a614dead-a6d5-454b-e2f9-2351c3d82fe2"
      },
      "source": [
        "top5 = vocab.most_common(5)\n",
        "top5"
      ],
      "execution_count": 12,
      "outputs": [
        {
          "output_type": "execute_result",
          "data": {
            "text/plain": [
              "[('barber', 8), ('secret', 6), ('huge', 5), ('kept', 4), ('person', 3)]"
            ]
          },
          "metadata": {},
          "execution_count": 12
        }
      ]
    },
    {
      "cell_type": "code",
      "metadata": {
        "colab": {
          "base_uri": "https://localhost:8080/"
        },
        "id": "pqHS63WOCS6X",
        "outputId": "a3ce2384-652a-4070-cbfb-9f9ad8f587b2"
      },
      "source": [
        "word_to_index = {}\n",
        "\n",
        "for i, word in enumerate(top5):\n",
        "  word_to_index[word[0]] = i + 1\n",
        "word_to_index"
      ],
      "execution_count": 16,
      "outputs": [
        {
          "output_type": "execute_result",
          "data": {
            "text/plain": [
              "{'barber': 1, 'huge': 3, 'kept': 4, 'person': 5, 'secret': 2}"
            ]
          },
          "metadata": {},
          "execution_count": 16
        }
      ]
    },
    {
      "cell_type": "markdown",
      "metadata": {
        "id": "_9Qu8hWhD3Mh"
      },
      "source": [
        "### 3) Keras 텍스트 전처리"
      ]
    },
    {
      "cell_type": "code",
      "metadata": {
        "id": "LcckU0eECVGB"
      },
      "source": [
        "from tensorflow.keras.preprocessing.text import Tokenizer\n",
        "tokenizer = Tokenizer()"
      ],
      "execution_count": 17,
      "outputs": []
    },
    {
      "cell_type": "code",
      "metadata": {
        "colab": {
          "base_uri": "https://localhost:8080/"
        },
        "id": "TkaS-_m0F5sd",
        "outputId": "a7701e71-6275-4fe6-b226-4c4f1d710772"
      },
      "source": [
        "tokenizer.fit_on_texts(sentences)\n",
        "tokenizer.word_index"
      ],
      "execution_count": 19,
      "outputs": [
        {
          "output_type": "execute_result",
          "data": {
            "text/plain": [
              "{'barber': 1,\n",
              " 'crazy': 11,\n",
              " 'driving': 10,\n",
              " 'good': 8,\n",
              " 'huge': 3,\n",
              " 'keeping': 7,\n",
              " 'kept': 4,\n",
              " 'knew': 9,\n",
              " 'mountain': 13,\n",
              " 'person': 5,\n",
              " 'secret': 2,\n",
              " 'went': 12,\n",
              " 'word': 6}"
            ]
          },
          "metadata": {},
          "execution_count": 19
        }
      ]
    },
    {
      "cell_type": "code",
      "metadata": {
        "colab": {
          "base_uri": "https://localhost:8080/"
        },
        "id": "EKecBtprF9vg",
        "outputId": "97d83af7-6153-47b7-bd5d-369acab7a14d"
      },
      "source": [
        "tokenizer.word_counts"
      ],
      "execution_count": 20,
      "outputs": [
        {
          "output_type": "execute_result",
          "data": {
            "text/plain": [
              "OrderedDict([('barber', 16),\n",
              "             ('person', 6),\n",
              "             ('good', 2),\n",
              "             ('huge', 10),\n",
              "             ('knew', 2),\n",
              "             ('secret', 12),\n",
              "             ('kept', 8),\n",
              "             ('word', 4),\n",
              "             ('keeping', 4),\n",
              "             ('driving', 2),\n",
              "             ('crazy', 2),\n",
              "             ('went', 2),\n",
              "             ('mountain', 2)])"
            ]
          },
          "metadata": {},
          "execution_count": 20
        }
      ]
    },
    {
      "cell_type": "code",
      "metadata": {
        "colab": {
          "base_uri": "https://localhost:8080/"
        },
        "id": "YKtthukYGacX",
        "outputId": "359dfbe1-1e9c-4202-d4ca-16ad3fb7147b"
      },
      "source": [
        "tokenizer.texts_to_sequences(sentences)"
      ],
      "execution_count": 21,
      "outputs": [
        {
          "output_type": "execute_result",
          "data": {
            "text/plain": [
              "[[1, 5],\n",
              " [1, 8, 5],\n",
              " [1, 3, 5],\n",
              " [9, 2],\n",
              " [2, 4, 3, 2],\n",
              " [3, 2],\n",
              " [1, 4, 6],\n",
              " [1, 4, 6],\n",
              " [1, 4, 2],\n",
              " [7, 7, 3, 2, 10, 1, 11],\n",
              " [1, 12, 3, 13]]"
            ]
          },
          "metadata": {},
          "execution_count": 21
        }
      ]
    },
    {
      "cell_type": "markdown",
      "metadata": {
        "id": "P4rXiN2zIMkI"
      },
      "source": [
        "- 단어 빈도수 Top 5 만 제대로 표시하고, 나머지는 OOV 값(1)으로 표시"
      ]
    },
    {
      "cell_type": "code",
      "metadata": {
        "id": "yrPZjQk7G9Ys"
      },
      "source": [
        "vocab_size = 5\n",
        "tokenizer = Tokenizer(num_words=vocab_size + 2, oov_token='OOV')\n",
        "# 빈도수 상위 5개 단어만 사용. 숫자 0과 OOV를 고려해서 단어 집합의 크기는 +2\n",
        "tokenizer.fit_on_texts(sentences)"
      ],
      "execution_count": 24,
      "outputs": []
    },
    {
      "cell_type": "code",
      "metadata": {
        "colab": {
          "base_uri": "https://localhost:8080/"
        },
        "id": "LPtYoWhsHte-",
        "outputId": "93b5c64a-6ac2-41cf-aeb4-fc87fd21fb6b"
      },
      "source": [
        "tokenizer.word_index"
      ],
      "execution_count": 25,
      "outputs": [
        {
          "output_type": "execute_result",
          "data": {
            "text/plain": [
              "{'OOV': 1,\n",
              " 'barber': 2,\n",
              " 'crazy': 12,\n",
              " 'driving': 11,\n",
              " 'good': 9,\n",
              " 'huge': 4,\n",
              " 'keeping': 8,\n",
              " 'kept': 5,\n",
              " 'knew': 10,\n",
              " 'mountain': 14,\n",
              " 'person': 6,\n",
              " 'secret': 3,\n",
              " 'went': 13,\n",
              " 'word': 7}"
            ]
          },
          "metadata": {},
          "execution_count": 25
        }
      ]
    },
    {
      "cell_type": "code",
      "metadata": {
        "colab": {
          "base_uri": "https://localhost:8080/"
        },
        "id": "9beKOOjYID5M",
        "outputId": "85f94b20-a92e-4cfc-88ec-dde2316f55b0"
      },
      "source": [
        "tokenizer.texts_to_sequences(sentences)"
      ],
      "execution_count": 28,
      "outputs": [
        {
          "output_type": "execute_result",
          "data": {
            "text/plain": [
              "[[2, 6],\n",
              " [2, 1, 6],\n",
              " [2, 4, 6],\n",
              " [1, 3],\n",
              " [3, 5, 4, 3],\n",
              " [4, 3],\n",
              " [2, 5, 1],\n",
              " [2, 5, 1],\n",
              " [2, 5, 3],\n",
              " [1, 1, 4, 3, 1, 2, 1],\n",
              " [2, 1, 4, 1]]"
            ]
          },
          "metadata": {},
          "execution_count": 28
        }
      ]
    },
    {
      "cell_type": "markdown",
      "metadata": {
        "id": "b_stzCTfJIaA"
      },
      "source": [
        "## 7. Padding"
      ]
    },
    {
      "cell_type": "code",
      "metadata": {
        "colab": {
          "base_uri": "https://localhost:8080/"
        },
        "id": "VWF3rnGZIXQA",
        "outputId": "a32ad2e3-1fc4-48f3-cb16-ac3d2f17799c"
      },
      "source": [
        "tokenizer.fit_on_texts(sentences)\n",
        "encoded = tokenizer.texts_to_sequences(sentences)\n",
        "encoded"
      ],
      "execution_count": 29,
      "outputs": [
        {
          "output_type": "execute_result",
          "data": {
            "text/plain": [
              "[[2, 6],\n",
              " [2, 1, 6],\n",
              " [2, 4, 6],\n",
              " [1, 3],\n",
              " [3, 5, 4, 3],\n",
              " [4, 3],\n",
              " [2, 5, 1],\n",
              " [2, 5, 1],\n",
              " [2, 5, 3],\n",
              " [1, 1, 4, 3, 1, 2, 1],\n",
              " [2, 1, 4, 1]]"
            ]
          },
          "metadata": {},
          "execution_count": 29
        }
      ]
    },
    {
      "cell_type": "code",
      "metadata": {
        "colab": {
          "base_uri": "https://localhost:8080/"
        },
        "id": "EzaLgFV-NC4T",
        "outputId": "9a791242-d0e4-474d-f7b6-f1f34a6e2180"
      },
      "source": [
        "from tensorflow.keras.preprocessing.sequence import pad_sequences\n",
        "pad_sequences(encoded)"
      ],
      "execution_count": 30,
      "outputs": [
        {
          "output_type": "execute_result",
          "data": {
            "text/plain": [
              "array([[0, 0, 0, 0, 0, 2, 6],\n",
              "       [0, 0, 0, 0, 2, 1, 6],\n",
              "       [0, 0, 0, 0, 2, 4, 6],\n",
              "       [0, 0, 0, 0, 0, 1, 3],\n",
              "       [0, 0, 0, 3, 5, 4, 3],\n",
              "       [0, 0, 0, 0, 0, 4, 3],\n",
              "       [0, 0, 0, 0, 2, 5, 1],\n",
              "       [0, 0, 0, 0, 2, 5, 1],\n",
              "       [0, 0, 0, 0, 2, 5, 3],\n",
              "       [1, 1, 4, 3, 1, 2, 1],\n",
              "       [0, 0, 0, 2, 1, 4, 1]], dtype=int32)"
            ]
          },
          "metadata": {},
          "execution_count": 30
        }
      ]
    },
    {
      "cell_type": "code",
      "metadata": {
        "colab": {
          "base_uri": "https://localhost:8080/"
        },
        "id": "AW_1gee9OCaY",
        "outputId": "38cec332-7690-4437-ed0a-f0cdc9858c8f"
      },
      "source": [
        "pad_sequences(encoded, padding='post')"
      ],
      "execution_count": 31,
      "outputs": [
        {
          "output_type": "execute_result",
          "data": {
            "text/plain": [
              "array([[2, 6, 0, 0, 0, 0, 0],\n",
              "       [2, 1, 6, 0, 0, 0, 0],\n",
              "       [2, 4, 6, 0, 0, 0, 0],\n",
              "       [1, 3, 0, 0, 0, 0, 0],\n",
              "       [3, 5, 4, 3, 0, 0, 0],\n",
              "       [4, 3, 0, 0, 0, 0, 0],\n",
              "       [2, 5, 1, 0, 0, 0, 0],\n",
              "       [2, 5, 1, 0, 0, 0, 0],\n",
              "       [2, 5, 3, 0, 0, 0, 0],\n",
              "       [1, 1, 4, 3, 1, 2, 1],\n",
              "       [2, 1, 4, 1, 0, 0, 0]], dtype=int32)"
            ]
          },
          "metadata": {},
          "execution_count": 31
        }
      ]
    },
    {
      "cell_type": "code",
      "metadata": {
        "colab": {
          "base_uri": "https://localhost:8080/"
        },
        "id": "NxRJq3UkOgnc",
        "outputId": "3de454e6-0194-409e-f49f-d45fade3c602"
      },
      "source": [
        "# 실전에서 사용하는 방법\n",
        "pad_sequences(encoded, padding='post', maxlen=5)"
      ],
      "execution_count": 32,
      "outputs": [
        {
          "output_type": "execute_result",
          "data": {
            "text/plain": [
              "array([[2, 6, 0, 0, 0],\n",
              "       [2, 1, 6, 0, 0],\n",
              "       [2, 4, 6, 0, 0],\n",
              "       [1, 3, 0, 0, 0],\n",
              "       [3, 5, 4, 3, 0],\n",
              "       [4, 3, 0, 0, 0],\n",
              "       [2, 5, 1, 0, 0],\n",
              "       [2, 5, 1, 0, 0],\n",
              "       [2, 5, 3, 0, 0],\n",
              "       [4, 3, 1, 2, 1],\n",
              "       [2, 1, 4, 1, 0]], dtype=int32)"
            ]
          },
          "metadata": {},
          "execution_count": 32
        }
      ]
    },
    {
      "cell_type": "markdown",
      "metadata": {
        "id": "Mvl0FtwaQ7D2"
      },
      "source": [
        "## 8. 원-핫 인코딩(one-hot encoding)"
      ]
    },
    {
      "cell_type": "code",
      "metadata": {
        "id": "wpQzQMtiPfaE"
      },
      "source": [
        "!pip install Konlpy > /dev/null"
      ],
      "execution_count": 33,
      "outputs": []
    },
    {
      "cell_type": "code",
      "metadata": {
        "colab": {
          "base_uri": "https://localhost:8080/"
        },
        "id": "QttyzQv3RGCJ",
        "outputId": "084ffdc1-69f8-44eb-eb70-d108a30642d5"
      },
      "source": [
        "from konlpy.tag import Okt\n",
        "okt = Okt()\n",
        "text = '나는 자연어 처리를 배운다'\n",
        "token = okt.morphs(text)\n",
        "token"
      ],
      "execution_count": 34,
      "outputs": [
        {
          "output_type": "execute_result",
          "data": {
            "text/plain": [
              "['나', '는', '자연어', '처리', '를', '배운다']"
            ]
          },
          "metadata": {},
          "execution_count": 34
        }
      ]
    },
    {
      "cell_type": "code",
      "metadata": {
        "colab": {
          "base_uri": "https://localhost:8080/"
        },
        "id": "IuZSah4BRPu6",
        "outputId": "e197a9dd-b252-4c76-d0d5-07b67a343b6f"
      },
      "source": [
        "word_to_index = {word: i for i, word in enumerate(token)}\n",
        "word_to_index"
      ],
      "execution_count": 35,
      "outputs": [
        {
          "output_type": "execute_result",
          "data": {
            "text/plain": [
              "{'나': 0, '는': 1, '를': 4, '배운다': 5, '자연어': 2, '처리': 3}"
            ]
          },
          "metadata": {},
          "execution_count": 35
        }
      ]
    },
    {
      "cell_type": "code",
      "metadata": {
        "colab": {
          "base_uri": "https://localhost:8080/"
        },
        "id": "j85LgOaoRpzc",
        "outputId": "34c3d3d7-b97e-4a4b-d149-a0532818e9fb"
      },
      "source": [
        "from tensorflow.keras.utils import to_categorical\n",
        "to_categorical(list(word_to_index.values()))"
      ],
      "execution_count": 38,
      "outputs": [
        {
          "output_type": "execute_result",
          "data": {
            "text/plain": [
              "array([[1., 0., 0., 0., 0., 0.],\n",
              "       [0., 1., 0., 0., 0., 0.],\n",
              "       [0., 0., 1., 0., 0., 0.],\n",
              "       [0., 0., 0., 1., 0., 0.],\n",
              "       [0., 0., 0., 0., 1., 0.],\n",
              "       [0., 0., 0., 0., 0., 1.]], dtype=float32)"
            ]
          },
          "metadata": {},
          "execution_count": 38
        }
      ]
    },
    {
      "cell_type": "code",
      "metadata": {
        "colab": {
          "base_uri": "https://localhost:8080/"
        },
        "id": "GYAovkv0SPQO",
        "outputId": "17bc5190-1e34-44e2-e832-de5c70ba1f08"
      },
      "source": [
        "text = '나랑 점심 먹으러 갈래 점심 메뉴는 햄버거 갈래 갈래 햄버거 최고야'\n",
        "\n",
        "t = Tokenizer()\n",
        "t.fit_on_texts([text])\n",
        "print(t.word_index)"
      ],
      "execution_count": 39,
      "outputs": [
        {
          "output_type": "stream",
          "text": [
            "{'갈래': 1, '점심': 2, '햄버거': 3, '나랑': 4, '먹으러': 5, '메뉴는': 6, '최고야': 7}\n"
          ],
          "name": "stdout"
        }
      ]
    },
    {
      "cell_type": "code",
      "metadata": {
        "colab": {
          "base_uri": "https://localhost:8080/"
        },
        "id": "EAzPpsEETFO3",
        "outputId": "8ccdd4d0-fa08-4a97-ade9-ae7523d34245"
      },
      "source": [
        "encoded = t.texts_to_sequences([text])[0]\n",
        "encoded"
      ],
      "execution_count": 41,
      "outputs": [
        {
          "output_type": "execute_result",
          "data": {
            "text/plain": [
              "[4, 2, 5, 1, 2, 6, 3, 1, 1, 3, 7]"
            ]
          },
          "metadata": {},
          "execution_count": 41
        }
      ]
    },
    {
      "cell_type": "code",
      "metadata": {
        "colab": {
          "base_uri": "https://localhost:8080/"
        },
        "id": "GyEToLUQTIJy",
        "outputId": "8b6fcf8a-eb59-489c-fa07-5de4441769d1"
      },
      "source": [
        "to_categorical(encoded)"
      ],
      "execution_count": 42,
      "outputs": [
        {
          "output_type": "execute_result",
          "data": {
            "text/plain": [
              "array([[0., 0., 0., 0., 1., 0., 0., 0.],\n",
              "       [0., 0., 1., 0., 0., 0., 0., 0.],\n",
              "       [0., 0., 0., 0., 0., 1., 0., 0.],\n",
              "       [0., 1., 0., 0., 0., 0., 0., 0.],\n",
              "       [0., 0., 1., 0., 0., 0., 0., 0.],\n",
              "       [0., 0., 0., 0., 0., 0., 1., 0.],\n",
              "       [0., 0., 0., 1., 0., 0., 0., 0.],\n",
              "       [0., 1., 0., 0., 0., 0., 0., 0.],\n",
              "       [0., 1., 0., 0., 0., 0., 0., 0.],\n",
              "       [0., 0., 0., 1., 0., 0., 0., 0.],\n",
              "       [0., 0., 0., 0., 0., 0., 0., 1.]], dtype=float32)"
            ]
          },
          "metadata": {},
          "execution_count": 42
        }
      ]
    },
    {
      "cell_type": "markdown",
      "metadata": {
        "id": "AH5pvrFfUhPF"
      },
      "source": [
        "## 9. 데이터의 분리"
      ]
    },
    {
      "cell_type": "code",
      "metadata": {
        "id": "5ew1r1OJTLa9"
      },
      "source": [
        "from sklearn.model_selection import train_test_split"
      ],
      "execution_count": 43,
      "outputs": []
    },
    {
      "cell_type": "code",
      "metadata": {
        "id": "eqXU7ciMYMeO"
      },
      "source": [
        "from sklearn.datasets import load_iris\n",
        "iris = load_iris()"
      ],
      "execution_count": 44,
      "outputs": []
    },
    {
      "cell_type": "code",
      "metadata": {
        "colab": {
          "base_uri": "https://localhost:8080/"
        },
        "id": "QhmyQMNfagx9",
        "outputId": "64e7fcb4-2384-49e5-871a-9e996b831631"
      },
      "source": [
        "iris.feature_names"
      ],
      "execution_count": 47,
      "outputs": [
        {
          "output_type": "execute_result",
          "data": {
            "text/plain": [
              "['sepal length (cm)',\n",
              " 'sepal width (cm)',\n",
              " 'petal length (cm)',\n",
              " 'petal width (cm)']"
            ]
          },
          "metadata": {},
          "execution_count": 47
        }
      ]
    },
    {
      "cell_type": "code",
      "metadata": {
        "colab": {
          "base_uri": "https://localhost:8080/"
        },
        "id": "vBbWr3YsYSOs",
        "outputId": "8d0b1df1-7151-4681-dbc5-03aa016828c4"
      },
      "source": [
        "iris.data[:5]"
      ],
      "execution_count": 48,
      "outputs": [
        {
          "output_type": "execute_result",
          "data": {
            "text/plain": [
              "array([[5.1, 3.5, 1.4, 0.2],\n",
              "       [4.9, 3. , 1.4, 0.2],\n",
              "       [4.7, 3.2, 1.3, 0.2],\n",
              "       [4.6, 3.1, 1.5, 0.2],\n",
              "       [5. , 3.6, 1.4, 0.2]])"
            ]
          },
          "metadata": {},
          "execution_count": 48
        }
      ]
    },
    {
      "cell_type": "code",
      "metadata": {
        "colab": {
          "base_uri": "https://localhost:8080/"
        },
        "id": "fhLE1aHOaj2S",
        "outputId": "1e9cd615-91bf-4e1d-ed2e-1e2d4c339980"
      },
      "source": [
        "iris.target_names"
      ],
      "execution_count": 49,
      "outputs": [
        {
          "output_type": "execute_result",
          "data": {
            "text/plain": [
              "array(['setosa', 'versicolor', 'virginica'], dtype='<U10')"
            ]
          },
          "metadata": {},
          "execution_count": 49
        }
      ]
    },
    {
      "cell_type": "code",
      "metadata": {
        "colab": {
          "base_uri": "https://localhost:8080/"
        },
        "id": "7XvdYAzUXfoW",
        "outputId": "4e99f6c8-6033-47cc-f0c8-d0ace6d7c802"
      },
      "source": [
        "x_train, x_test, y_train, y_test = train_test_split(\n",
        "    iris.data, iris.target, test_size=0.2, random_state=2021\n",
        ")\n",
        "x_train.shape, x_test.shape, y_train.shape, y_test.shape"
      ],
      "execution_count": 53,
      "outputs": [
        {
          "output_type": "execute_result",
          "data": {
            "text/plain": [
              "((120, 4), (30, 4), (120,), (30,))"
            ]
          },
          "metadata": {},
          "execution_count": 53
        }
      ]
    },
    {
      "cell_type": "code",
      "metadata": {
        "colab": {
          "base_uri": "https://localhost:8080/"
        },
        "id": "eKisZOfVadT5",
        "outputId": "ff8ebfc7-136d-44f6-ad75-aa58d2991ebe"
      },
      "source": [
        "print(y_test)"
      ],
      "execution_count": 54,
      "outputs": [
        {
          "output_type": "stream",
          "text": [
            "[0 0 1 0 0 0 0 0 0 0 0 1 2 2 1 2 1 1 0 1 1 2 2 0 2 1 1 1 0 0]\n"
          ],
          "name": "stdout"
        }
      ]
    },
    {
      "cell_type": "code",
      "metadata": {
        "colab": {
          "base_uri": "https://localhost:8080/"
        },
        "id": "T7Vkzup3bZ1l",
        "outputId": "ba3a81ea-c2da-421a-aab8-0409bd8d60d1"
      },
      "source": [
        "import numpy as np\n",
        "np.unique(y_test, return_counts=True)"
      ],
      "execution_count": 55,
      "outputs": [
        {
          "output_type": "execute_result",
          "data": {
            "text/plain": [
              "(array([0, 1, 2]), array([14, 10,  6]))"
            ]
          },
          "metadata": {},
          "execution_count": 55
        }
      ]
    },
    {
      "cell_type": "code",
      "metadata": {
        "colab": {
          "base_uri": "https://localhost:8080/"
        },
        "id": "DiVpKQ7icLba",
        "outputId": "ffec7882-e018-4dc3-b3fe-2212ae31848d"
      },
      "source": [
        ""
      ],
      "execution_count": 56,
      "outputs": [
        {
          "output_type": "execute_result",
          "data": {
            "text/plain": [
              "(array([[5.5, 2.4, 3.7, 1. ],\n",
              "        [6.2, 2.9, 4.3, 1.3],\n",
              "        [4.9, 3.1, 1.5, 0.2],\n",
              "        [6.4, 2.8, 5.6, 2.2],\n",
              "        [6.6, 2.9, 4.6, 1.3],\n",
              "        [6.2, 2.2, 4.5, 1.5],\n",
              "        [6.5, 3. , 5.8, 2.2],\n",
              "        [4.8, 3.4, 1.9, 0.2],\n",
              "        [6.8, 3.2, 5.9, 2.3],\n",
              "        [6.3, 3.3, 4.7, 1.6],\n",
              "        [6.3, 2.5, 5. , 1.9],\n",
              "        [7.6, 3. , 6.6, 2.1],\n",
              "        [4.8, 3. , 1.4, 0.3],\n",
              "        [5.6, 2.9, 3.6, 1.3],\n",
              "        [7.2, 3. , 5.8, 1.6],\n",
              "        [6. , 2.7, 5.1, 1.6],\n",
              "        [5.9, 3. , 5.1, 1.8],\n",
              "        [6.3, 3.4, 5.6, 2.4],\n",
              "        [5.2, 2.7, 3.9, 1.4],\n",
              "        [5.6, 3. , 4.1, 1.3],\n",
              "        [6.7, 2.5, 5.8, 1.8],\n",
              "        [5.4, 3.9, 1.3, 0.4],\n",
              "        [7.7, 2.6, 6.9, 2.3],\n",
              "        [5.1, 3.4, 1.5, 0.2],\n",
              "        [5.8, 2.6, 4. , 1.2],\n",
              "        [4.7, 3.2, 1.6, 0.2],\n",
              "        [5.8, 2.7, 4.1, 1. ],\n",
              "        [6.1, 3. , 4.9, 1.8],\n",
              "        [6.7, 3. , 5. , 1.7],\n",
              "        [5.1, 3.8, 1.6, 0.2],\n",
              "        [5.3, 3.7, 1.5, 0.2],\n",
              "        [7.3, 2.9, 6.3, 1.8],\n",
              "        [4.9, 3.6, 1.4, 0.1],\n",
              "        [5.7, 2.9, 4.2, 1.3],\n",
              "        [5.7, 2.8, 4.1, 1.3],\n",
              "        [6.7, 3.3, 5.7, 2.5],\n",
              "        [5. , 2. , 3.5, 1. ],\n",
              "        [4.6, 3.2, 1.4, 0.2],\n",
              "        [5. , 3.4, 1.6, 0.4],\n",
              "        [5.8, 2.7, 5.1, 1.9],\n",
              "        [5.1, 2.5, 3. , 1.1],\n",
              "        [7.7, 2.8, 6.7, 2. ],\n",
              "        [7.7, 3.8, 6.7, 2.2],\n",
              "        [5.7, 2.6, 3.5, 1. ],\n",
              "        [6.3, 2.9, 5.6, 1.8],\n",
              "        [4.6, 3.1, 1.5, 0.2],\n",
              "        [5.4, 3.4, 1.7, 0.2],\n",
              "        [5.2, 4.1, 1.5, 0.1],\n",
              "        [6.9, 3.1, 5.4, 2.1],\n",
              "        [5.7, 3.8, 1.7, 0.3],\n",
              "        [6.3, 2.3, 4.4, 1.3],\n",
              "        [5.7, 3. , 4.2, 1.2],\n",
              "        [5.4, 3.4, 1.5, 0.4],\n",
              "        [6.3, 3.3, 6. , 2.5],\n",
              "        [6.7, 3.1, 4.7, 1.5],\n",
              "        [6.6, 3. , 4.4, 1.4],\n",
              "        [6.2, 2.8, 4.8, 1.8],\n",
              "        [5.4, 3. , 4.5, 1.5],\n",
              "        [6. , 2.2, 5. , 1.5],\n",
              "        [5.8, 2.8, 5.1, 2.4],\n",
              "        [4.9, 3.1, 1.5, 0.1],\n",
              "        [6.4, 3.2, 4.5, 1.5],\n",
              "        [7.9, 3.8, 6.4, 2. ],\n",
              "        [5.2, 3.5, 1.5, 0.2],\n",
              "        [7.7, 3. , 6.1, 2.3],\n",
              "        [7. , 3.2, 4.7, 1.4],\n",
              "        [5.5, 2.5, 4. , 1.3],\n",
              "        [5.1, 3.5, 1.4, 0.3],\n",
              "        [6. , 2.9, 4.5, 1.5],\n",
              "        [6.4, 3.1, 5.5, 1.8],\n",
              "        [6.4, 2.7, 5.3, 1.9],\n",
              "        [4.8, 3.4, 1.6, 0.2],\n",
              "        [5.5, 2.3, 4. , 1.3],\n",
              "        [6.8, 2.8, 4.8, 1.4],\n",
              "        [5. , 3.5, 1.3, 0.3],\n",
              "        [5.7, 4.4, 1.5, 0.4],\n",
              "        [5.5, 2.6, 4.4, 1.2],\n",
              "        [5.8, 2.7, 3.9, 1.2],\n",
              "        [6.5, 3. , 5.2, 2. ],\n",
              "        [5.1, 3.8, 1.5, 0.3],\n",
              "        [5.6, 2.8, 4.9, 2. ],\n",
              "        [6.7, 3. , 5.2, 2.3],\n",
              "        [5.5, 3.5, 1.3, 0.2],\n",
              "        [5.4, 3.7, 1.5, 0.2],\n",
              "        [5. , 3. , 1.6, 0.2],\n",
              "        [6.9, 3.1, 5.1, 2.3],\n",
              "        [4.5, 2.3, 1.3, 0.3],\n",
              "        [6. , 3. , 4.8, 1.8],\n",
              "        [6.2, 3.4, 5.4, 2.3],\n",
              "        [6.1, 2.8, 4. , 1.3],\n",
              "        [5.8, 4. , 1.2, 0.2],\n",
              "        [4.9, 2.5, 4.5, 1.7],\n",
              "        [4.4, 3. , 1.3, 0.2],\n",
              "        [7.4, 2.8, 6.1, 1.9],\n",
              "        [5.4, 3.9, 1.7, 0.4],\n",
              "        [6.9, 3.2, 5.7, 2.3],\n",
              "        [6.7, 3.1, 5.6, 2.4],\n",
              "        [6.9, 3.1, 4.9, 1.5],\n",
              "        [6.3, 2.7, 4.9, 1.8],\n",
              "        [6.5, 2.8, 4.6, 1.5],\n",
              "        [5. , 3.3, 1.4, 0.2],\n",
              "        [6.1, 2.9, 4.7, 1.4],\n",
              "        [6.7, 3.3, 5.7, 2.1],\n",
              "        [6.5, 3.2, 5.1, 2. ],\n",
              "        [4.9, 3. , 1.4, 0.2],\n",
              "        [5. , 3.4, 1.5, 0.2],\n",
              "        [5.8, 2.7, 5.1, 1.9],\n",
              "        [5.5, 4.2, 1.4, 0.2],\n",
              "        [5.9, 3.2, 4.8, 1.8],\n",
              "        [7.1, 3. , 5.9, 2.1],\n",
              "        [5. , 2.3, 3.3, 1. ],\n",
              "        [5.1, 3.7, 1.5, 0.4],\n",
              "        [6. , 2.2, 4. , 1. ],\n",
              "        [5.1, 3.8, 1.9, 0.4],\n",
              "        [5.6, 2.7, 4.2, 1.3],\n",
              "        [7.2, 3.6, 6.1, 2.5],\n",
              "        [6.4, 2.8, 5.6, 2.1],\n",
              "        [4.9, 2.4, 3.3, 1. ],\n",
              "        [6. , 3.4, 4.5, 1.6],\n",
              "        [6.5, 3. , 5.5, 1.8]]), array([[4.4, 3.2, 1.3, 0.2],\n",
              "        [4.6, 3.6, 1. , 0.2],\n",
              "        [5.5, 2.4, 3.8, 1.1],\n",
              "        [4.3, 3. , 1.1, 0.1],\n",
              "        [5.2, 3.4, 1.4, 0.2],\n",
              "        [5.1, 3.5, 1.4, 0.2],\n",
              "        [4.4, 2.9, 1.4, 0.2],\n",
              "        [4.8, 3.1, 1.6, 0.2],\n",
              "        [4.7, 3.2, 1.3, 0.2],\n",
              "        [5. , 3.5, 1.6, 0.6],\n",
              "        [5. , 3.2, 1.2, 0.2],\n",
              "        [6.1, 2.8, 4.7, 1.2],\n",
              "        [5.7, 2.5, 5. , 2. ],\n",
              "        [6.4, 3.2, 5.3, 2.3],\n",
              "        [6.1, 3. , 4.6, 1.4],\n",
              "        [7.2, 3.2, 6. , 1.8],\n",
              "        [5.7, 2.8, 4.5, 1.3],\n",
              "        [5.6, 2.5, 3.9, 1.1],\n",
              "        [5.1, 3.3, 1.7, 0.5],\n",
              "        [5.6, 3. , 4.5, 1.5],\n",
              "        [5.9, 3. , 4.2, 1.5],\n",
              "        [6.8, 3. , 5.5, 2.1],\n",
              "        [6.1, 2.6, 5.6, 1.4],\n",
              "        [5. , 3.6, 1.4, 0.2],\n",
              "        [6.3, 2.8, 5.1, 1.5],\n",
              "        [6.7, 3.1, 4.4, 1.4],\n",
              "        [6.4, 2.9, 4.3, 1.3],\n",
              "        [6.3, 2.5, 4.9, 1.5],\n",
              "        [4.8, 3. , 1.4, 0.1],\n",
              "        [4.6, 3.4, 1.4, 0.3]]), array([1, 1, 0, 2, 1, 1, 2, 0, 2, 1, 2, 2, 0, 1, 2, 1, 2, 2, 1, 1, 2, 0,\n",
              "        2, 0, 1, 0, 1, 2, 1, 0, 0, 2, 0, 1, 1, 2, 1, 0, 0, 2, 1, 2, 2, 1,\n",
              "        2, 0, 0, 0, 2, 0, 1, 1, 0, 2, 1, 1, 2, 1, 2, 2, 0, 1, 2, 0, 2, 1,\n",
              "        1, 0, 1, 2, 2, 0, 1, 1, 0, 0, 1, 1, 2, 0, 2, 2, 0, 0, 0, 2, 0, 2,\n",
              "        2, 1, 0, 2, 0, 2, 0, 2, 2, 1, 2, 1, 0, 1, 2, 2, 0, 0, 2, 0, 1, 2,\n",
              "        1, 0, 1, 0, 1, 2, 2, 1, 1, 2]), array([0, 0, 1, 0, 0, 0, 0, 0, 0, 0, 0, 1, 2, 2, 1, 2, 1, 1, 0, 1, 1, 2,\n",
              "        2, 0, 2, 1, 1, 1, 0, 0]))"
            ]
          },
          "metadata": {},
          "execution_count": 56
        }
      ]
    },
    {
      "cell_type": "code",
      "metadata": {
        "id": "4dcKHLPpcQwr"
      },
      "source": [
        ""
      ],
      "execution_count": null,
      "outputs": []
    }
  ]
}