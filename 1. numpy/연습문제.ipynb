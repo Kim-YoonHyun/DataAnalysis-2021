{
  "nbformat": 4,
  "nbformat_minor": 0,
  "metadata": {
    "colab": {
      "name": "연습문제.ipynb",
      "provenance": [],
      "collapsed_sections": []
    },
    "kernelspec": {
      "name": "python3",
      "display_name": "Python 3"
    },
    "language_info": {
      "name": "python"
    }
  },
  "cells": [
    {
      "cell_type": "markdown",
      "metadata": {
        "id": "-ElLyCfrKUM1"
      },
      "source": [
        "### 1. 넘파이를 사용하여 다음과 같은 행렬을 만드시오.\n",
        "10 20 30 40\n",
        "\n",
        "50 60 70 80"
      ]
    },
    {
      "cell_type": "code",
      "metadata": {
        "id": "mM-IaqwnKhHq"
      },
      "source": [
        "import numpy as np"
      ],
      "execution_count": 2,
      "outputs": []
    },
    {
      "cell_type": "code",
      "metadata": {
        "colab": {
          "base_uri": "https://localhost:8080/"
        },
        "id": "QxeaM_i0KOnn",
        "outputId": "4b50bf7d-da07-44a0-a869-9b184f528248"
      },
      "source": [
        "np.arange(10, 81, 10).reshape(2, -1)"
      ],
      "execution_count": 3,
      "outputs": [
        {
          "output_type": "execute_result",
          "data": {
            "text/plain": [
              "array([[10, 20, 30, 40],\n",
              "       [50, 60, 70, 80]])"
            ]
          },
          "metadata": {
            "tags": []
          },
          "execution_count": 3
        }
      ]
    },
    {
      "cell_type": "markdown",
      "metadata": {
        "id": "V06iZ94PKpZp"
      },
      "source": [
        "### 2. 다음 행렬과 같은 행렬이 있다."
      ]
    },
    {
      "cell_type": "code",
      "metadata": {
        "colab": {
          "base_uri": "https://localhost:8080/"
        },
        "id": "VjAigfx0Kuki",
        "outputId": "194ccad0-871d-4fbe-e4ed-7be2381c0dca"
      },
      "source": [
        "m = np.arange(0, 15).reshape(3, -1)\n",
        "m"
      ],
      "execution_count": 4,
      "outputs": [
        {
          "output_type": "execute_result",
          "data": {
            "text/plain": [
              "array([[ 0,  1,  2,  3,  4],\n",
              "       [ 5,  6,  7,  8,  9],\n",
              "       [10, 11, 12, 13, 14]])"
            ]
          },
          "metadata": {
            "tags": []
          },
          "execution_count": 4
        }
      ]
    },
    {
      "cell_type": "code",
      "metadata": {
        "colab": {
          "base_uri": "https://localhost:8080/"
        },
        "id": "vuuIUtItKe5u",
        "outputId": "b5bf5343-47d3-42cb-fbbd-2bf7ae9dcf82"
      },
      "source": [
        "# 이 행렬에서 값 7을 인덱싱\n",
        "m[1, 2]"
      ],
      "execution_count": 5,
      "outputs": [
        {
          "output_type": "execute_result",
          "data": {
            "text/plain": [
              "7"
            ]
          },
          "metadata": {
            "tags": []
          },
          "execution_count": 5
        }
      ]
    },
    {
      "cell_type": "code",
      "metadata": {
        "colab": {
          "base_uri": "https://localhost:8080/"
        },
        "id": "jw9rAOz_K8a5",
        "outputId": "6ed2e699-4ad6-48ad-9513-186c41e42a6c"
      },
      "source": [
        "# 이 행렬에서 값 14를 인덱싱\n",
        "m[2, 4]"
      ],
      "execution_count": 6,
      "outputs": [
        {
          "output_type": "execute_result",
          "data": {
            "text/plain": [
              "14"
            ]
          },
          "metadata": {
            "tags": []
          },
          "execution_count": 6
        }
      ]
    },
    {
      "cell_type": "code",
      "metadata": {
        "colab": {
          "base_uri": "https://localhost:8080/"
        },
        "id": "-dlmMP-nLBYh",
        "outputId": "463b602c-087a-4f30-b1b1-bb1bdf200da8"
      },
      "source": [
        "# 이 행렬에서 배열 [6, 7]을 슬라이싱\n",
        "m[1, 1:3]"
      ],
      "execution_count": 7,
      "outputs": [
        {
          "output_type": "execute_result",
          "data": {
            "text/plain": [
              "array([6, 7])"
            ]
          },
          "metadata": {
            "tags": []
          },
          "execution_count": 7
        }
      ]
    },
    {
      "cell_type": "code",
      "metadata": {
        "colab": {
          "base_uri": "https://localhost:8080/"
        },
        "id": "qpj9hUXSLKCl",
        "outputId": "56f84922-3ef2-45f1-c54d-89330a7579f4"
      },
      "source": [
        "# 이 행렬에서 배열 [7, 12]를 슬라이싱\n",
        "m[-2:, 2]"
      ],
      "execution_count": 8,
      "outputs": [
        {
          "output_type": "execute_result",
          "data": {
            "text/plain": [
              "array([ 7, 12])"
            ]
          },
          "metadata": {
            "tags": []
          },
          "execution_count": 8
        }
      ]
    },
    {
      "cell_type": "code",
      "metadata": {
        "colab": {
          "base_uri": "https://localhost:8080/"
        },
        "id": "Y6zH1UYTLRSJ",
        "outputId": "90e20fe4-de89-4909-bdcd-4864d4e66847"
      },
      "source": [
        "# 이 행렬에서 배열 [[3, 4], [8, 9]]를 슬라이싱\n",
        "m[0:2, -2:]"
      ],
      "execution_count": 9,
      "outputs": [
        {
          "output_type": "execute_result",
          "data": {
            "text/plain": [
              "array([[3, 4],\n",
              "       [8, 9]])"
            ]
          },
          "metadata": {
            "tags": []
          },
          "execution_count": 9
        }
      ]
    },
    {
      "cell_type": "markdown",
      "metadata": {
        "id": "dWfWjcM5Llex"
      },
      "source": [
        "### 3. 2번의 행렬 m을 1차원 벡터 f로 변환한 후 다음의 문제를 푸시오 "
      ]
    },
    {
      "cell_type": "code",
      "metadata": {
        "colab": {
          "base_uri": "https://localhost:8080/"
        },
        "id": "toAXVF02Lj-7",
        "outputId": "86037fb7-3a31-45af-9d50-0e654ebeb5b1"
      },
      "source": [
        "f = m.flatten()\n",
        "f"
      ],
      "execution_count": 10,
      "outputs": [
        {
          "output_type": "execute_result",
          "data": {
            "text/plain": [
              "array([ 0,  1,  2,  3,  4,  5,  6,  7,  8,  9, 10, 11, 12, 13, 14])"
            ]
          },
          "metadata": {
            "tags": []
          },
          "execution_count": 10
        }
      ]
    },
    {
      "cell_type": "code",
      "metadata": {
        "colab": {
          "base_uri": "https://localhost:8080/"
        },
        "id": "dw74NcCdL3aW",
        "outputId": "00803ce9-3491-46bf-d182-a3a02e604b75"
      },
      "source": [
        "# 이 배열에서 3의 배수를 찾아라\n",
        "index = np.where(f % 3 == 0)\n",
        "f.take(index)"
      ],
      "execution_count": 11,
      "outputs": [
        {
          "output_type": "execute_result",
          "data": {
            "text/plain": [
              "array([[ 0,  3,  6,  9, 12]])"
            ]
          },
          "metadata": {
            "tags": []
          },
          "execution_count": 11
        }
      ]
    },
    {
      "cell_type": "code",
      "metadata": {
        "colab": {
          "base_uri": "https://localhost:8080/"
        },
        "id": "Qvh2Wpr0MHIP",
        "outputId": "d5a49e09-3903-4bc5-ae2f-4f066b74b544"
      },
      "source": [
        "# 이 배열에서 4로 나누면 1이 남는 수를 찾아라\n",
        "index = np.where(f % 4 == 1)\n",
        "f.take(index)"
      ],
      "execution_count": 12,
      "outputs": [
        {
          "output_type": "execute_result",
          "data": {
            "text/plain": [
              "array([[ 1,  5,  9, 13]])"
            ]
          },
          "metadata": {
            "tags": []
          },
          "execution_count": 12
        }
      ]
    },
    {
      "cell_type": "code",
      "metadata": {
        "colab": {
          "base_uri": "https://localhost:8080/"
        },
        "id": "dvm4WLw8NpcY",
        "outputId": "4f751fae-8e2e-49fc-dc84-7a1b27706309"
      },
      "source": [
        "# 이 배열에서 3으로 나누면 나누어지고 4로 나누면 이 남는 수를 찾아라\n",
        "index1 = np.logical_and(f % 3 == 0, f%4==1)\n",
        "index2 = np.where(index1 == True)\n",
        "f.take(index2)"
      ],
      "execution_count": 13,
      "outputs": [
        {
          "output_type": "execute_result",
          "data": {
            "text/plain": [
              "array([[9]])"
            ]
          },
          "metadata": {
            "tags": []
          },
          "execution_count": 13
        }
      ]
    },
    {
      "cell_type": "markdown",
      "metadata": {
        "id": "dqEGMQIpQEBe"
      },
      "source": [
        "### 4. 값을 직접 입력하지 말고 행렬을 만드시오"
      ]
    },
    {
      "cell_type": "code",
      "metadata": {
        "colab": {
          "base_uri": "https://localhost:8080/"
        },
        "id": "dS8DyUDPPVxt",
        "outputId": "54c753bb-b8a8-401e-d460-46c606996c28"
      },
      "source": [
        "np.eye(5, 5) * 2  + np.eye(5, 5, 1) * 1 + np.eye(5, 5, -1) * 3"
      ],
      "execution_count": 14,
      "outputs": [
        {
          "output_type": "execute_result",
          "data": {
            "text/plain": [
              "array([[2., 1., 0., 0., 0.],\n",
              "       [3., 2., 1., 0., 0.],\n",
              "       [0., 3., 2., 1., 0.],\n",
              "       [0., 0., 3., 2., 1.],\n",
              "       [0., 0., 0., 3., 2.]])"
            ]
          },
          "metadata": {
            "tags": []
          },
          "execution_count": 14
        }
      ]
    },
    {
      "cell_type": "markdown",
      "metadata": {
        "id": "EWT1gZeTQr9w"
      },
      "source": [
        "### 5. 0에서 10까지 랜덤 실수값으로 이루어진 5x6 형태의 데이터 행렬을 만들고 이 데이터에 대해 다음과 같은 값을 구하시오"
      ]
    },
    {
      "cell_type": "code",
      "metadata": {
        "colab": {
          "base_uri": "https://localhost:8080/"
        },
        "id": "-5TkfTFSQgIp",
        "outputId": "5279c911-72ce-46b9-d28b-4753af8ce989"
      },
      "source": [
        "# matrix = np.random.uniform(0, 10, 30).reshape(5, 6)\n",
        "matrix = np.random.randint(0, 10, 30).reshape(5, 6)\n",
        "matrix"
      ],
      "execution_count": 15,
      "outputs": [
        {
          "output_type": "execute_result",
          "data": {
            "text/plain": [
              "array([[1, 2, 0, 8, 0, 0],\n",
              "       [1, 2, 0, 6, 1, 3],\n",
              "       [3, 7, 3, 5, 9, 2],\n",
              "       [9, 1, 0, 3, 8, 8],\n",
              "       [2, 9, 2, 5, 6, 1]])"
            ]
          },
          "metadata": {
            "tags": []
          },
          "execution_count": 15
        }
      ]
    },
    {
      "cell_type": "code",
      "metadata": {
        "colab": {
          "base_uri": "https://localhost:8080/"
        },
        "id": "Uwga8KJTQ-Xy",
        "outputId": "ce47e73a-7dd4-4af9-e797-901ab8949a6f"
      },
      "source": [
        "# 전체의 최댓값\n",
        "np.max(matrix)"
      ],
      "execution_count": 16,
      "outputs": [
        {
          "output_type": "execute_result",
          "data": {
            "text/plain": [
              "9"
            ]
          },
          "metadata": {
            "tags": []
          },
          "execution_count": 16
        }
      ]
    },
    {
      "cell_type": "code",
      "metadata": {
        "colab": {
          "base_uri": "https://localhost:8080/"
        },
        "id": "vF7R6XecRtKu",
        "outputId": "0e99cfe3-147d-46fe-a2e9-72843184833c"
      },
      "source": [
        "# 각 행의 합\n",
        "matrix.sum(axis=1)"
      ],
      "execution_count": 17,
      "outputs": [
        {
          "output_type": "execute_result",
          "data": {
            "text/plain": [
              "array([11, 13, 29, 29, 25])"
            ]
          },
          "metadata": {
            "tags": []
          },
          "execution_count": 17
        }
      ]
    },
    {
      "cell_type": "code",
      "metadata": {
        "colab": {
          "base_uri": "https://localhost:8080/"
        },
        "id": "HAodOaurRzhx",
        "outputId": "cf66083a-0f67-41ed-a54b-8054bf5c1869"
      },
      "source": [
        "# 각 열의 평균\n",
        "np.average(matrix, axis=0)"
      ],
      "execution_count": 18,
      "outputs": [
        {
          "output_type": "execute_result",
          "data": {
            "text/plain": [
              "array([3.2, 4.2, 1. , 5.4, 4.8, 2.8])"
            ]
          },
          "metadata": {
            "tags": []
          },
          "execution_count": 18
        }
      ]
    },
    {
      "cell_type": "code",
      "metadata": {
        "colab": {
          "base_uri": "https://localhost:8080/"
        },
        "id": "Ki0qK1ZbSDqN",
        "outputId": "aa98867d-fbb9-4775-de8a-a845e58ac851"
      },
      "source": [
        "# 각 열의 최솟값\n",
        "np.min(matrix, axis=0), matrix.min(axis=0)"
      ],
      "execution_count": 19,
      "outputs": [
        {
          "output_type": "execute_result",
          "data": {
            "text/plain": [
              "(array([1, 1, 0, 3, 0, 0]), array([1, 1, 0, 3, 0, 0]))"
            ]
          },
          "metadata": {
            "tags": []
          },
          "execution_count": 19
        }
      ]
    },
    {
      "cell_type": "markdown",
      "metadata": {
        "id": "NH-ONfR_Se0w"
      },
      "source": [
        "### 6. 다음 배열은 첫 번째 행(row)에 학번, 두 번째 행에 영어성적, 세번째 행에 수학성적을 적은 배열이다. 영어 성적을 기준으로 각 열(column)을 재정렬하시오"
      ]
    },
    {
      "cell_type": "code",
      "metadata": {
        "id": "mohEp0DMSVA5"
      },
      "source": [
        "matrix = np.array([[ 1,  2,   3,   4],\n",
        "                   [46, 99, 100,  71],\n",
        "                   [81, 59,  90, 100]])"
      ],
      "execution_count": 20,
      "outputs": []
    },
    {
      "cell_type": "code",
      "metadata": {
        "colab": {
          "base_uri": "https://localhost:8080/"
        },
        "id": "i6jo_Et9hI0I",
        "outputId": "4393112c-a791-4061-9dd9-317458e7c10c"
      },
      "source": [
        "vec1 = matrix[0][[0, 3, 1, 2]]\n",
        "vec2 = matrix[1][[0, 3, 1, 2]]\n",
        "vec3 = matrix[2][[0, 3, 1, 2]]\n",
        "np.vstack((vec1, vec2, vec3))"
      ],
      "execution_count": 21,
      "outputs": [
        {
          "output_type": "execute_result",
          "data": {
            "text/plain": [
              "array([[  1,   4,   2,   3],\n",
              "       [ 46,  71,  99, 100],\n",
              "       [ 81, 100,  59,  90]])"
            ]
          },
          "metadata": {
            "tags": []
          },
          "execution_count": 21
        }
      ]
    },
    {
      "cell_type": "code",
      "metadata": {
        "colab": {
          "base_uri": "https://localhost:8080/"
        },
        "id": "GSYhM4PJpJAk",
        "outputId": "5c71a418-34d6-465c-8272-5947d0e65678"
      },
      "source": [
        "s = np.argsort(matrix[1])\n",
        "s"
      ],
      "execution_count": 22,
      "outputs": [
        {
          "output_type": "execute_result",
          "data": {
            "text/plain": [
              "array([0, 3, 1, 2])"
            ]
          },
          "metadata": {
            "tags": []
          },
          "execution_count": 22
        }
      ]
    },
    {
      "cell_type": "code",
      "metadata": {
        "colab": {
          "base_uri": "https://localhost:8080/"
        },
        "id": "V5lVpz6lpV-s",
        "outputId": "5fcb119f-8823-4179-9331-2085890467fa"
      },
      "source": [
        "matrix[:, s[::-1]]"
      ],
      "execution_count": 23,
      "outputs": [
        {
          "output_type": "execute_result",
          "data": {
            "text/plain": [
              "array([[  3,   2,   4,   1],\n",
              "       [100,  99,  71,  46],\n",
              "       [ 90,  59, 100,  81]])"
            ]
          },
          "metadata": {
            "tags": []
          },
          "execution_count": 23
        }
      ]
    },
    {
      "cell_type": "markdown",
      "metadata": {
        "id": "9lavM3q9UM_a"
      },
      "source": [
        "### 7. 주사위를 100번 던지는 가상 실험을 파이썬으로 작성하고, 던져서 나오는 숫자의 평균을 구하시오"
      ]
    },
    {
      "cell_type": "code",
      "metadata": {
        "colab": {
          "base_uri": "https://localhost:8080/"
        },
        "id": "TFphWtSzTU8M",
        "outputId": "621ee2d4-73bc-48b5-b7d9-1b47e44dbf99"
      },
      "source": [
        "dice = np.random.randint(1, 7, 100).reshape(10, -1)\n",
        "print(dice)\n",
        "np.average(dice)"
      ],
      "execution_count": 24,
      "outputs": [
        {
          "output_type": "stream",
          "text": [
            "[[1 3 6 3 2 2 6 1 3 5]\n",
            " [1 3 4 6 4 2 2 2 1 2]\n",
            " [2 6 3 3 6 2 2 4 4 1]\n",
            " [3 5 5 4 1 5 6 3 2 5]\n",
            " [1 2 4 6 4 1 1 2 2 2]\n",
            " [1 6 3 1 5 5 3 6 5 3]\n",
            " [1 1 1 5 2 3 4 6 3 6]\n",
            " [2 2 1 1 4 2 3 1 3 6]\n",
            " [2 4 5 2 1 6 1 2 2 3]\n",
            " [3 2 3 1 2 6 3 1 3 6]]\n"
          ],
          "name": "stdout"
        },
        {
          "output_type": "execute_result",
          "data": {
            "text/plain": [
              "3.09"
            ]
          },
          "metadata": {
            "tags": []
          },
          "execution_count": 24
        }
      ]
    },
    {
      "cell_type": "markdown",
      "metadata": {
        "id": "CKn7myTfUkh1"
      },
      "source": [
        "### 8. 가격이 10,000원인 주식이 있다. 이 주식의 일간 수익률(%)은 기댓값이 0%이고 표준편차가 1%인 표준 정규 분포를 따른다고 하자. 250일 동안의 주가를 무작위로 생성하시오."
      ]
    },
    {
      "cell_type": "code",
      "metadata": {
        "id": "0peq-a92UaGM",
        "colab": {
          "base_uri": "https://localhost:8080/"
        },
        "outputId": "807dd091-450a-4a7f-cfa6-c459d9d4f6bd"
      },
      "source": [
        "# 10개만 먼저 테스트\n",
        "np.random.seed(2021)\n",
        "price = 10000\n",
        "rate = np.random.normal(0, 0.01, 10)\n",
        "for i in range(10):\n",
        "  price += np.round(price*rate[i])\n",
        "  print(price, end=', ')"
      ],
      "execution_count": 25,
      "outputs": [
        {
          "output_type": "stream",
          "text": [
            "10149.0, 10218.0, 10175.0, 10093.0, 10149.0, 10077.0, 10191.0, 10257.0, 10268.0, 10311.0, "
          ],
          "name": "stdout"
        }
      ]
    },
    {
      "cell_type": "code",
      "metadata": {
        "id": "oKH-1w76kOQb"
      },
      "source": [
        ""
      ],
      "execution_count": 26,
      "outputs": []
    },
    {
      "cell_type": "code",
      "metadata": {
        "id": "1PJcIHFgkT2P"
      },
      "source": [
        ""
      ],
      "execution_count": 26,
      "outputs": []
    }
  ]
}