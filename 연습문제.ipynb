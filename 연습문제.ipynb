{
  "nbformat": 4,
  "nbformat_minor": 0,
  "metadata": {
    "colab": {
      "name": "연습문제.ipynb",
      "provenance": [],
      "collapsed_sections": []
    },
    "kernelspec": {
      "name": "python3",
      "display_name": "Python 3"
    },
    "language_info": {
      "name": "python"
    }
  },
  "cells": [
    {
      "cell_type": "markdown",
      "metadata": {
        "id": "-ElLyCfrKUM1"
      },
      "source": [
        "### 1. 넘파이를 사용하여 다음과 같은 행렬을 만드시오.\n",
        "10 20 30 40\n",
        "\n",
        "50 60 70 80"
      ]
    },
    {
      "cell_type": "code",
      "metadata": {
        "id": "mM-IaqwnKhHq"
      },
      "source": [
        "import numpy as np"
      ],
      "execution_count": 2,
      "outputs": []
    },
    {
      "cell_type": "code",
      "metadata": {
        "colab": {
          "base_uri": "https://localhost:8080/"
        },
        "id": "QxeaM_i0KOnn",
        "outputId": "97d763f0-3980-4d96-9fcd-6a09cae0ff00"
      },
      "source": [
        "np.arange(10, 81, 10).reshape(2, -1)"
      ],
      "execution_count": 4,
      "outputs": [
        {
          "output_type": "execute_result",
          "data": {
            "text/plain": [
              "array([[10, 20, 30, 40],\n",
              "       [50, 60, 70, 80]])"
            ]
          },
          "metadata": {
            "tags": []
          },
          "execution_count": 4
        }
      ]
    },
    {
      "cell_type": "markdown",
      "metadata": {
        "id": "V06iZ94PKpZp"
      },
      "source": [
        "### 2. 다음 행렬과 같은 행렬이 있다."
      ]
    },
    {
      "cell_type": "code",
      "metadata": {
        "colab": {
          "base_uri": "https://localhost:8080/"
        },
        "id": "VjAigfx0Kuki",
        "outputId": "98b90a39-1f1c-4e02-faf2-b2f3a01625d0"
      },
      "source": [
        "m = np.arange(0, 15).reshape(3, -1)\n",
        "m"
      ],
      "execution_count": 55,
      "outputs": [
        {
          "output_type": "execute_result",
          "data": {
            "text/plain": [
              "array([[ 0,  1,  2,  3,  4],\n",
              "       [ 5,  6,  7,  8,  9],\n",
              "       [10, 11, 12, 13, 14]])"
            ]
          },
          "metadata": {
            "tags": []
          },
          "execution_count": 55
        }
      ]
    },
    {
      "cell_type": "code",
      "metadata": {
        "colab": {
          "base_uri": "https://localhost:8080/"
        },
        "id": "vuuIUtItKe5u",
        "outputId": "0c0de972-0dd0-4962-d085-d694bdd08209"
      },
      "source": [
        "# 이 행렬에서 값 7을 인덱싱\n",
        "m[1, 2]"
      ],
      "execution_count": 56,
      "outputs": [
        {
          "output_type": "execute_result",
          "data": {
            "text/plain": [
              "7"
            ]
          },
          "metadata": {
            "tags": []
          },
          "execution_count": 56
        }
      ]
    },
    {
      "cell_type": "code",
      "metadata": {
        "colab": {
          "base_uri": "https://localhost:8080/"
        },
        "id": "jw9rAOz_K8a5",
        "outputId": "28f6cec4-c913-4a87-fdce-8aeadea41949"
      },
      "source": [
        "# 이 행렬에서 값 14를 인덱싱\n",
        "m[2, 4]"
      ],
      "execution_count": 57,
      "outputs": [
        {
          "output_type": "execute_result",
          "data": {
            "text/plain": [
              "14"
            ]
          },
          "metadata": {
            "tags": []
          },
          "execution_count": 57
        }
      ]
    },
    {
      "cell_type": "code",
      "metadata": {
        "colab": {
          "base_uri": "https://localhost:8080/"
        },
        "id": "-dlmMP-nLBYh",
        "outputId": "9886e26e-1636-4e68-e060-868fd161ace1"
      },
      "source": [
        "# 이 행렬에서 배열 [6, 7]을 슬라이싱\n",
        "m[1, 1:3]"
      ],
      "execution_count": 58,
      "outputs": [
        {
          "output_type": "execute_result",
          "data": {
            "text/plain": [
              "array([6, 7])"
            ]
          },
          "metadata": {
            "tags": []
          },
          "execution_count": 58
        }
      ]
    },
    {
      "cell_type": "code",
      "metadata": {
        "colab": {
          "base_uri": "https://localhost:8080/"
        },
        "id": "qpj9hUXSLKCl",
        "outputId": "11614956-837d-44d5-cae5-9ed70458bafe"
      },
      "source": [
        "# 이 행렬에서 배열 [7, 12]를 슬라이싱\n",
        "m[-2:, 2]"
      ],
      "execution_count": 59,
      "outputs": [
        {
          "output_type": "execute_result",
          "data": {
            "text/plain": [
              "array([ 7, 12])"
            ]
          },
          "metadata": {
            "tags": []
          },
          "execution_count": 59
        }
      ]
    },
    {
      "cell_type": "code",
      "metadata": {
        "colab": {
          "base_uri": "https://localhost:8080/"
        },
        "id": "Y6zH1UYTLRSJ",
        "outputId": "89492f2b-9268-4751-a355-8a5cb9b2f83b"
      },
      "source": [
        "# 이 행렬에서 배열 [[3, 4], [8, 9]]를 슬라이싱\n",
        "m[0:2, -2:]"
      ],
      "execution_count": 60,
      "outputs": [
        {
          "output_type": "execute_result",
          "data": {
            "text/plain": [
              "array([[3, 4],\n",
              "       [8, 9]])"
            ]
          },
          "metadata": {
            "tags": []
          },
          "execution_count": 60
        }
      ]
    },
    {
      "cell_type": "markdown",
      "metadata": {
        "id": "dWfWjcM5Llex"
      },
      "source": [
        "### 3. 2번의 행렬 m을 1차원 벡터 f로 변환한 후 다음의 문제를 푸시오 "
      ]
    },
    {
      "cell_type": "code",
      "metadata": {
        "colab": {
          "base_uri": "https://localhost:8080/"
        },
        "id": "toAXVF02Lj-7",
        "outputId": "441307a5-6c79-4b11-cbb5-f6e916e7a504"
      },
      "source": [
        "f = m.flatten()\n",
        "f"
      ],
      "execution_count": 61,
      "outputs": [
        {
          "output_type": "execute_result",
          "data": {
            "text/plain": [
              "array([ 0,  1,  2,  3,  4,  5,  6,  7,  8,  9, 10, 11, 12, 13, 14])"
            ]
          },
          "metadata": {
            "tags": []
          },
          "execution_count": 61
        }
      ]
    },
    {
      "cell_type": "code",
      "metadata": {
        "colab": {
          "base_uri": "https://localhost:8080/"
        },
        "id": "dw74NcCdL3aW",
        "outputId": "50726162-d28e-4bac-a940-7d4d3cd7f099"
      },
      "source": [
        "# 이 배열에서 3의 배수를 찾아라\n",
        "index = np.where(f % 3 == 0)\n",
        "f.take(index)"
      ],
      "execution_count": 62,
      "outputs": [
        {
          "output_type": "execute_result",
          "data": {
            "text/plain": [
              "array([[ 0,  3,  6,  9, 12]])"
            ]
          },
          "metadata": {
            "tags": []
          },
          "execution_count": 62
        }
      ]
    },
    {
      "cell_type": "code",
      "metadata": {
        "colab": {
          "base_uri": "https://localhost:8080/"
        },
        "id": "Qvh2Wpr0MHIP",
        "outputId": "4b366e2e-3982-4078-c683-60b9ebe4f04e"
      },
      "source": [
        "# 이 배열에서 4로 나누면 1이 남는 수를 찾아라\n",
        "index = np.where(f % 4 == 1)\n",
        "f.take(index)"
      ],
      "execution_count": 67,
      "outputs": [
        {
          "output_type": "execute_result",
          "data": {
            "text/plain": [
              "array([[ 1,  5,  9, 13]])"
            ]
          },
          "metadata": {
            "tags": []
          },
          "execution_count": 67
        }
      ]
    },
    {
      "cell_type": "code",
      "metadata": {
        "colab": {
          "base_uri": "https://localhost:8080/"
        },
        "id": "dvm4WLw8NpcY",
        "outputId": "e1c59f4b-f69c-48e5-f55b-b13cd812dc44"
      },
      "source": [
        "# 이 배열에서 3으로 나누면 나누어지고 4로 나누면 이 남는 수를 찾아라\n",
        "index1 = np.logical_and(f % 3 == 0, f%4==1)\n",
        "index2 = np.where(index1 == True)\n",
        "f.take(index2)"
      ],
      "execution_count": 76,
      "outputs": [
        {
          "output_type": "execute_result",
          "data": {
            "text/plain": [
              "array([[9]])"
            ]
          },
          "metadata": {
            "tags": []
          },
          "execution_count": 76
        }
      ]
    },
    {
      "cell_type": "markdown",
      "metadata": {
        "id": "dqEGMQIpQEBe"
      },
      "source": [
        "### 4. 값을 직접 입력하지 말고 행렬을 만드시오"
      ]
    },
    {
      "cell_type": "code",
      "metadata": {
        "colab": {
          "base_uri": "https://localhost:8080/"
        },
        "id": "dS8DyUDPPVxt",
        "outputId": "eca9f7c6-f318-49c3-d5e5-18e5c9db2623"
      },
      "source": [
        "np.eye(5, 5) * 2  + np.eye(5, 5, 1) * 1 + np.eye(5, 5, -1) * 3"
      ],
      "execution_count": 84,
      "outputs": [
        {
          "output_type": "execute_result",
          "data": {
            "text/plain": [
              "array([[2., 1., 0., 0., 0.],\n",
              "       [3., 2., 1., 0., 0.],\n",
              "       [0., 3., 2., 1., 0.],\n",
              "       [0., 0., 3., 2., 1.],\n",
              "       [0., 0., 0., 3., 2.]])"
            ]
          },
          "metadata": {
            "tags": []
          },
          "execution_count": 84
        }
      ]
    },
    {
      "cell_type": "markdown",
      "metadata": {
        "id": "EWT1gZeTQr9w"
      },
      "source": [
        "### 5. 0에서 10까지 랜덤 실수값으로 이루어진 5x6 형태의 데이터 행렬을 만들고 이 데이터에 대해 다음과 같은 값을 구하시오"
      ]
    },
    {
      "cell_type": "code",
      "metadata": {
        "colab": {
          "base_uri": "https://localhost:8080/"
        },
        "id": "-5TkfTFSQgIp",
        "outputId": "3850f660-fb93-45e7-bb91-03e303e4db6b"
      },
      "source": [
        "# matrix = np.random.uniform(0, 10, 30).reshape(5, 6)\n",
        "matrix = np.random.randint(0, 10, 30).reshape(5, 6)\n",
        "matrix"
      ],
      "execution_count": 98,
      "outputs": [
        {
          "output_type": "execute_result",
          "data": {
            "text/plain": [
              "array([[1, 8, 2, 2, 8, 0],\n",
              "       [0, 4, 2, 7, 7, 8],\n",
              "       [6, 1, 8, 7, 2, 4],\n",
              "       [1, 4, 1, 0, 9, 1],\n",
              "       [2, 9, 2, 9, 6, 9]])"
            ]
          },
          "metadata": {
            "tags": []
          },
          "execution_count": 98
        }
      ]
    },
    {
      "cell_type": "code",
      "metadata": {
        "colab": {
          "base_uri": "https://localhost:8080/"
        },
        "id": "Uwga8KJTQ-Xy",
        "outputId": "43f610c7-82af-44e3-f720-b222fa62f395"
      },
      "source": [
        "# 전체의 최댓값\n",
        "np.max(matrix)"
      ],
      "execution_count": 99,
      "outputs": [
        {
          "output_type": "execute_result",
          "data": {
            "text/plain": [
              "9"
            ]
          },
          "metadata": {
            "tags": []
          },
          "execution_count": 99
        }
      ]
    },
    {
      "cell_type": "code",
      "metadata": {
        "colab": {
          "base_uri": "https://localhost:8080/"
        },
        "id": "vF7R6XecRtKu",
        "outputId": "0f708f4f-b471-4c94-9017-871ec7be0a4c"
      },
      "source": [
        "# 각 행의 합\n",
        "matrix.sum(axis=1)"
      ],
      "execution_count": 100,
      "outputs": [
        {
          "output_type": "execute_result",
          "data": {
            "text/plain": [
              "array([21, 28, 28, 16, 37])"
            ]
          },
          "metadata": {
            "tags": []
          },
          "execution_count": 100
        }
      ]
    },
    {
      "cell_type": "code",
      "metadata": {
        "colab": {
          "base_uri": "https://localhost:8080/"
        },
        "id": "HAodOaurRzhx",
        "outputId": "c5af2c8a-3225-45d9-da34-dbfd50706663"
      },
      "source": [
        "# 각 열의 평균\n",
        "np.average(matrix, axis=0)"
      ],
      "execution_count": 102,
      "outputs": [
        {
          "output_type": "execute_result",
          "data": {
            "text/plain": [
              "array([2. , 5.2, 3. , 5. , 6.4, 4.4])"
            ]
          },
          "metadata": {
            "tags": []
          },
          "execution_count": 102
        }
      ]
    },
    {
      "cell_type": "code",
      "metadata": {
        "colab": {
          "base_uri": "https://localhost:8080/"
        },
        "id": "Ki0qK1ZbSDqN",
        "outputId": "1376a52e-b2b4-411e-c96c-6e51e12d9e6c"
      },
      "source": [
        "# 각 열의 최솟값\n",
        "np.min(matrix, axis=0), matrix.min(axis=0)"
      ],
      "execution_count": 107,
      "outputs": [
        {
          "output_type": "execute_result",
          "data": {
            "text/plain": [
              "(array([0, 1, 1, 0, 2, 0]), array([0, 1, 1, 0, 2, 0]))"
            ]
          },
          "metadata": {
            "tags": []
          },
          "execution_count": 107
        }
      ]
    },
    {
      "cell_type": "markdown",
      "metadata": {
        "id": "NH-ONfR_Se0w"
      },
      "source": [
        "### 6. 다음 배열은 첫 번째 행(row)에 학번, 두 번째 행에 영어성적, 세번째 행에 수학성적을 적은 배열이다. 영어 성적을 기준으로 각 열(column)을 재정렬하시오"
      ]
    },
    {
      "cell_type": "code",
      "metadata": {
        "id": "mohEp0DMSVA5"
      },
      "source": [
        "matrix = np.array([[ 1,  2,   3,   4],\n",
        "                   [46, 99, 100,  71],\n",
        "                   [81, 59,  90, 100]])"
      ],
      "execution_count": 145,
      "outputs": []
    },
    {
      "cell_type": "code",
      "metadata": {
        "colab": {
          "base_uri": "https://localhost:8080/"
        },
        "id": "i6jo_Et9hI0I",
        "outputId": "fb0847c8-7883-448f-ea2f-252ef7d8337d"
      },
      "source": [
        "vec1 = matrix[0][[0, 3, 1, 2]]\n",
        "vec2 = matrix[1][[0, 3, 1, 2]]\n",
        "vec3 = matrix[2][[0, 3, 1, 2]]\n",
        "np.vstack((vec1, vec2, vec3))"
      ],
      "execution_count": 146,
      "outputs": [
        {
          "output_type": "execute_result",
          "data": {
            "text/plain": [
              "array([[  1,   4,   2,   3],\n",
              "       [ 46,  71,  99, 100],\n",
              "       [ 81, 100,  59,  90]])"
            ]
          },
          "metadata": {
            "tags": []
          },
          "execution_count": 146
        }
      ]
    },
    {
      "cell_type": "code",
      "metadata": {
        "colab": {
          "base_uri": "https://localhost:8080/"
        },
        "id": "GSYhM4PJpJAk",
        "outputId": "cc257b6a-56ad-415d-db33-bbab441fc24e"
      },
      "source": [
        "s = np.argsort(matrix[1])\n",
        "s"
      ],
      "execution_count": 148,
      "outputs": [
        {
          "output_type": "execute_result",
          "data": {
            "text/plain": [
              "array([0, 3, 1, 2])"
            ]
          },
          "metadata": {
            "tags": []
          },
          "execution_count": 148
        }
      ]
    },
    {
      "cell_type": "code",
      "metadata": {
        "colab": {
          "base_uri": "https://localhost:8080/"
        },
        "id": "V5lVpz6lpV-s",
        "outputId": "55671caa-1ddc-4204-d386-60420ed4af82"
      },
      "source": [
        "matrix[:, s[::-1]]"
      ],
      "execution_count": 149,
      "outputs": [
        {
          "output_type": "execute_result",
          "data": {
            "text/plain": [
              "array([[  3,   2,   4,   1],\n",
              "       [100,  99,  71,  46],\n",
              "       [ 90,  59, 100,  81]])"
            ]
          },
          "metadata": {
            "tags": []
          },
          "execution_count": 149
        }
      ]
    },
    {
      "cell_type": "markdown",
      "metadata": {
        "id": "9lavM3q9UM_a"
      },
      "source": [
        "### 7. 주사위를 100번 던지는 가상 실험을 파이썬으로 작성하고, 던져서 나오는 숫자의 평균을 구하시오"
      ]
    },
    {
      "cell_type": "code",
      "metadata": {
        "colab": {
          "base_uri": "https://localhost:8080/"
        },
        "id": "TFphWtSzTU8M",
        "outputId": "de2400b5-9444-4f6a-c2bd-2a6d6952058f"
      },
      "source": [
        "dice = np.random.randint(1, 7, 100).reshape(10, -1)\n",
        "print(dice)\n",
        "np.average(dice)"
      ],
      "execution_count": 119,
      "outputs": [
        {
          "output_type": "stream",
          "text": [
            "[[1 2 4 3 6 5 2 4 3 3]\n",
            " [6 3 5 2 4 6 4 3 3 4]\n",
            " [3 3 4 5 4 4 5 1 5 5]\n",
            " [1 5 2 2 5 1 4 4 2 5]\n",
            " [1 6 1 6 3 4 3 4 2 1]\n",
            " [2 1 2 3 4 3 2 5 2 1]\n",
            " [2 3 1 6 1 4 1 3 6 5]\n",
            " [4 6 4 4 3 1 6 5 2 2]\n",
            " [2 2 1 4 4 6 2 6 1 1]\n",
            " [6 2 4 2 5 3 6 1 6 4]]\n"
          ],
          "name": "stdout"
        },
        {
          "output_type": "execute_result",
          "data": {
            "text/plain": [
              "3.36"
            ]
          },
          "metadata": {
            "tags": []
          },
          "execution_count": 119
        }
      ]
    },
    {
      "cell_type": "markdown",
      "metadata": {
        "id": "CKn7myTfUkh1"
      },
      "source": [
        "### 8. 가격이 10,000원인 주식이 있다. 이 주식의 일간 수익률(%)은 기댓값이 0%이고 표준편차가 1%인 표준 정규 분포를 따른다고 하자. 250일 동안의 주가를 무작위로 생성하시오."
      ]
    },
    {
      "cell_type": "code",
      "metadata": {
        "id": "0peq-a92UaGM"
      },
      "source": [
        ""
      ],
      "execution_count": null,
      "outputs": []
    }
  ]
}