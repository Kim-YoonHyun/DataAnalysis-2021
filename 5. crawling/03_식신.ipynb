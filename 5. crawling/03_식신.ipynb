{
  "nbformat": 4,
  "nbformat_minor": 0,
  "metadata": {
    "colab": {
      "name": "03_식신.ipynb",
      "provenance": [],
      "collapsed_sections": []
    },
    "kernelspec": {
      "name": "python3",
      "display_name": "Python 3"
    },
    "language_info": {
      "name": "python"
    }
  },
  "cells": [
    {
      "cell_type": "markdown",
      "metadata": {
        "id": "1NYOJQdQtYna"
      },
      "source": [
        "# 식신 - 양재역으로 검색\n",
        "- 명칭, 주요메뉴, 평점, 전화번호, 주소"
      ]
    },
    {
      "cell_type": "code",
      "metadata": {
        "id": "mq20yrLrtW3K"
      },
      "source": [
        "import requests\n",
        "import pandas as pd\n",
        "from urllib.parse import quote"
      ],
      "execution_count": 1,
      "outputs": []
    },
    {
      "cell_type": "markdown",
      "metadata": {
        "id": "Y1nxImsHuGVt"
      },
      "source": [
        "- 데이터 가져오기"
      ]
    },
    {
      "cell_type": "code",
      "metadata": {
        "id": "K0gcYPbutrel"
      },
      "source": [
        "base_url = 'https://www.siksinhot.com'\n",
        "url = f'{base_url}/search?keywords={quote(\"양재역\")}'\n",
        "req = requests.get(url)\n",
        "html = req.text"
      ],
      "execution_count": 2,
      "outputs": []
    },
    {
      "cell_type": "code",
      "metadata": {
        "id": "tWGgLmCBur4W"
      },
      "source": [
        "from bs4 import BeautifulSoup\n",
        "\n",
        "soup = BeautifulSoup(html, 'html.parser')"
      ],
      "execution_count": 3,
      "outputs": []
    },
    {
      "cell_type": "markdown",
      "metadata": {
        "id": "LZhkZRRcu_Ma"
      },
      "source": [
        "- 찾으려고 하는 데이터의 태그"
      ]
    },
    {
      "cell_type": "code",
      "metadata": {
        "colab": {
          "base_uri": "https://localhost:8080/"
        },
        "id": "UpJaxNBmvBLk",
        "outputId": "2d4bd5ba-f6d7-471b-c08a-d9f5cb326ea0"
      },
      "source": [
        "lis = soup.select('div.listTy1 > ul > li')\n",
        "len(lis)"
      ],
      "execution_count": 4,
      "outputs": [
        {
          "output_type": "execute_result",
          "data": {
            "text/plain": [
              "12"
            ]
          },
          "metadata": {
            "tags": []
          },
          "execution_count": 4
        }
      ]
    },
    {
      "cell_type": "code",
      "metadata": {
        "colab": {
          "base_uri": "https://localhost:8080/",
          "height": 35
        },
        "id": "JWE9rtDUv4hP",
        "outputId": "0313de8b-3610-4989-885f-b7f2c421c461"
      },
      "source": [
        "li = lis[0]\n",
        "href = li.select_one('a')['href']\n",
        "href"
      ],
      "execution_count": 5,
      "outputs": [
        {
          "output_type": "execute_result",
          "data": {
            "application/vnd.google.colaboratory.intrinsic+json": {
              "type": "string"
            },
            "text/plain": [
              "'/P/358859'"
            ]
          },
          "metadata": {
            "tags": []
          },
          "execution_count": 5
        }
      ]
    },
    {
      "cell_type": "code",
      "metadata": {
        "id": "gndWUfZTxM_9"
      },
      "source": [
        "sub_url = base_url + href\n",
        "req = requests.get(sub_url)\n",
        "sub_soup = BeautifulSoup(req.text, 'html.parser')"
      ],
      "execution_count": 6,
      "outputs": []
    },
    {
      "cell_type": "code",
      "metadata": {
        "colab": {
          "base_uri": "https://localhost:8080/",
          "height": 35
        },
        "id": "xw1G-wlrx1Qd",
        "outputId": "0ce65df9-18a8-49c5-d570-efce1095decb"
      },
      "source": [
        "store = sub_soup.select_one('.title')\n",
        "info = store.find('h3').get_text()\n",
        "info"
      ],
      "execution_count": 7,
      "outputs": [
        {
          "output_type": "execute_result",
          "data": {
            "application/vnd.google.colaboratory.intrinsic+json": {
              "type": "string"
            },
            "text/plain": [
              "'그릭슈바인 양재역점3.6HOT'"
            ]
          },
          "metadata": {
            "tags": []
          },
          "execution_count": 7
        }
      ]
    },
    {
      "cell_type": "code",
      "metadata": {
        "colab": {
          "base_uri": "https://localhost:8080/",
          "height": 35
        },
        "id": "IOeLUCLqy6Mw",
        "outputId": "9bc50e17-f6fc-483c-f91c-68b6950f6b95"
      },
      "source": [
        "score = store.select_one('h3 > strong').string\n",
        "score"
      ],
      "execution_count": 8,
      "outputs": [
        {
          "output_type": "execute_result",
          "data": {
            "application/vnd.google.colaboratory.intrinsic+json": {
              "type": "string"
            },
            "text/plain": [
              "'3.6'"
            ]
          },
          "metadata": {
            "tags": []
          },
          "execution_count": 8
        }
      ]
    },
    {
      "cell_type": "code",
      "metadata": {
        "colab": {
          "base_uri": "https://localhost:8080/"
        },
        "id": "gOtmOrN3zrkV",
        "outputId": "61c806cf-2e41-4113-ec97-f76a03243968"
      },
      "source": [
        "info.find(score)"
      ],
      "execution_count": 9,
      "outputs": [
        {
          "output_type": "execute_result",
          "data": {
            "text/plain": [
              "10"
            ]
          },
          "metadata": {
            "tags": []
          },
          "execution_count": 9
        }
      ]
    },
    {
      "cell_type": "code",
      "metadata": {
        "colab": {
          "base_uri": "https://localhost:8080/",
          "height": 35
        },
        "id": "ZUnOS2rK0YhW",
        "outputId": "5b5ff9f1-8bf9-4fab-f8b0-2a7dcacde84a"
      },
      "source": [
        "name = info[:info.find(score)]\n",
        "name"
      ],
      "execution_count": 10,
      "outputs": [
        {
          "output_type": "execute_result",
          "data": {
            "application/vnd.google.colaboratory.intrinsic+json": {
              "type": "string"
            },
            "text/plain": [
              "'그릭슈바인 양재역점'"
            ]
          },
          "metadata": {
            "tags": []
          },
          "execution_count": 10
        }
      ]
    },
    {
      "cell_type": "code",
      "metadata": {
        "colab": {
          "base_uri": "https://localhost:8080/",
          "height": 35
        },
        "id": "2x7Q3TbA0xQn",
        "outputId": "4bcd9df8-1062-4270-aeeb-53462e260cad"
      },
      "source": [
        "menu = sub_soup.select('.store_info p')[1].get_text()\n",
        "menu"
      ],
      "execution_count": 11,
      "outputs": [
        {
          "output_type": "execute_result",
          "data": {
            "application/vnd.google.colaboratory.intrinsic+json": {
              "type": "string"
            },
            "text/plain": [
              "'나이트라이프 > 맥주/호프'"
            ]
          },
          "metadata": {
            "tags": []
          },
          "execution_count": 11
        }
      ]
    },
    {
      "cell_type": "code",
      "metadata": {
        "colab": {
          "base_uri": "https://localhost:8080/",
          "height": 35
        },
        "id": "W2Q6siVX1GcQ",
        "outputId": "2d95e206-d645-4cde-8269-25622b15981b"
      },
      "source": [
        "tel = sub_soup.select_one('.p_tel p').get_text()\n",
        "tel"
      ],
      "execution_count": 12,
      "outputs": [
        {
          "output_type": "execute_result",
          "data": {
            "application/vnd.google.colaboratory.intrinsic+json": {
              "type": "string"
            },
            "text/plain": [
              "'02-572-6100'"
            ]
          },
          "metadata": {
            "tags": []
          },
          "execution_count": 12
        }
      ]
    },
    {
      "cell_type": "code",
      "metadata": {
        "colab": {
          "base_uri": "https://localhost:8080/",
          "height": 35
        },
        "id": "3lO31EkJ1oeE",
        "outputId": "85fb7eed-12fd-48ab-9eeb-604d8910f81f"
      },
      "source": [
        "addr = sub_soup.select_one('.txt_adr').string\n",
        "addr "
      ],
      "execution_count": 13,
      "outputs": [
        {
          "output_type": "execute_result",
          "data": {
            "application/vnd.google.colaboratory.intrinsic+json": {
              "type": "string"
            },
            "text/plain": [
              "'서울특별시 서초구 강남대로 224'"
            ]
          },
          "metadata": {
            "tags": []
          },
          "execution_count": 13
        }
      ]
    },
    {
      "cell_type": "markdown",
      "metadata": {
        "id": "1wkWHwnn2Qo5"
      },
      "source": [
        "- 한 페이지에 있는 모든 데이터 불러오기"
      ]
    },
    {
      "cell_type": "code",
      "metadata": {
        "id": "fPAoMygl2M_4"
      },
      "source": [
        "name_list, score_list, menu_list, tel_list, addr_list = [], [], [], [], []\n",
        "for li in lis:\n",
        "  href = li.select_one('a')['href']\n",
        "  sub_url = base_url + href\n",
        "\n",
        "  req = requests.get(sub_url)\n",
        "  sub_soup = BeautifulSoup(req.text, 'html.parser')\n",
        "\n",
        "  try:\n",
        "    store = sub_soup.select_one('.title')\n",
        "    info = store.find('h3').get_text()\n",
        "    score = store.select_one('h3 > strong').string\n",
        "    name = info[:info.find(score)]\n",
        "    menu = sub_soup.select('.store_info p')[1].get_text()\n",
        "    tel = sub_soup.select_one('.p_tel p').get_text()\n",
        "    addr = sub_soup.select_one('.txt_adr').string\n",
        "\n",
        "    score_list.append(float(score))\n",
        "  except:\n",
        "    score = '평가중'\n",
        "    name = info[:info.find(score)]\n",
        "    menu = sub_soup.select('.store_info p')[1].get_text()\n",
        "    tel = sub_soup.select_one('.p_tel p').get_text()\n",
        "    addr = sub_soup.select_one('.txt_adr').string\n",
        "    score_list.append(score)\n",
        "\n",
        "  name_list.append(name)\n",
        "  \n",
        "  menu_list.append(menu)\n",
        "  tel_list.append(tel)\n",
        "  addr_list.append(addr)"
      ],
      "execution_count": 49,
      "outputs": []
    },
    {
      "cell_type": "code",
      "metadata": {
        "id": "8T2BMlIf3IJO",
        "colab": {
          "base_uri": "https://localhost:8080/"
        },
        "outputId": "21288acb-e8e5-434f-c3de-2e2f7f589a1f"
      },
      "source": [
        "name_list"
      ],
      "execution_count": 50,
      "outputs": [
        {
          "output_type": "execute_result",
          "data": {
            "text/plain": [
              "['그릭슈바인 양재역점',\n",
              " '미스터브리즈 양재역점',\n",
              " '동신참치 양재역점',\n",
              " '새우닭 양재역점',\n",
              " '양재역 옛날짜장',\n",
              " '영동족발 3호점',\n",
              " '황재벌',\n",
              " '김영모과자점 도곡타워점',\n",
              " '소호정 본점',\n",
              " '산동칼국수',\n",
              " '양재정육식당',\n",
              " '스타쉐프']"
            ]
          },
          "metadata": {
            "tags": []
          },
          "execution_count": 50
        }
      ]
    },
    {
      "cell_type": "code",
      "metadata": {
        "colab": {
          "base_uri": "https://localhost:8080/"
        },
        "id": "oyWyBGQztYwM",
        "outputId": "dc8a6f53-fb06-402c-9b1e-379c14c17d42"
      },
      "source": [
        "score_list"
      ],
      "execution_count": 51,
      "outputs": [
        {
          "output_type": "execute_result",
          "data": {
            "text/plain": [
              "[3.6, 3.4, 3.0, '평가중', '평가중', 4.1, 3.9, 4.1, 4.0, 3.9, 4.1, 3.9]"
            ]
          },
          "metadata": {
            "tags": []
          },
          "execution_count": 51
        }
      ]
    },
    {
      "cell_type": "code",
      "metadata": {
        "colab": {
          "base_uri": "https://localhost:8080/"
        },
        "id": "Zj7neQj4tZgH",
        "outputId": "edecc3a4-d980-42af-d644-f93844810926"
      },
      "source": [
        "menu_list"
      ],
      "execution_count": 52,
      "outputs": [
        {
          "output_type": "execute_result",
          "data": {
            "text/plain": [
              "['나이트라이프 > 맥주/호프',\n",
              " '세계음식 > 카페/커피숍',\n",
              " '한국음식 > 회',\n",
              " '세계음식 > 씨푸드',\n",
              " '세계음식 > 중국음식',\n",
              " '한국음식 > 족발/보쌈',\n",
              " '한국음식 > 장어구이/꼼장어',\n",
              " '세계음식 > 베이커리/제과점',\n",
              " '한국음식 > 라면/칼국수/국수/수제비',\n",
              " '한국음식 > 라면/칼국수/국수/수제비',\n",
              " '한국음식 > 꽃등심/등심/육회',\n",
              " '세계음식 > 퓨전레스토랑']"
            ]
          },
          "metadata": {
            "tags": []
          },
          "execution_count": 52
        }
      ]
    },
    {
      "cell_type": "code",
      "metadata": {
        "colab": {
          "base_uri": "https://localhost:8080/"
        },
        "id": "5PnrvN-pta0w",
        "outputId": "0488f1d5-6c8d-40e0-b0cb-7ba06be0d35a"
      },
      "source": [
        "tel_list"
      ],
      "execution_count": 53,
      "outputs": [
        {
          "output_type": "execute_result",
          "data": {
            "text/plain": [
              "['02-572-6100',\n",
              " '02-576-4333',\n",
              " '02-529-7130',\n",
              " '02-575-6088',\n",
              " '031-503-2550',\n",
              " '02-575-0250',\n",
              " '02-3471-5454',\n",
              " '02-3460-2005',\n",
              " '02-579-7282',\n",
              " '02-3473-7972',\n",
              " '02-577-5804',\n",
              " '02-529-8248']"
            ]
          },
          "metadata": {
            "tags": []
          },
          "execution_count": 53
        }
      ]
    },
    {
      "cell_type": "code",
      "metadata": {
        "colab": {
          "base_uri": "https://localhost:8080/"
        },
        "id": "dsJbOoOStcAb",
        "outputId": "4de63658-43e9-4bb5-ee4a-226a1d09ea63"
      },
      "source": [
        "addr_list"
      ],
      "execution_count": 54,
      "outputs": [
        {
          "output_type": "execute_result",
          "data": {
            "text/plain": [
              "['서울특별시 서초구 강남대로 224',\n",
              " '서울 서초구 강남대로34길 6',\n",
              " '서울 서초구 강남대로 213',\n",
              " '서울특별시 서초구 남부순환로356길 52  1층',\n",
              " '경기도 시흥시 공단1대로 13 ',\n",
              " '서울특별시 서초구 남부순환로 2628-18',\n",
              " '서울특별시 서초구 남부순환로347길 42-4 신화빌딩',\n",
              " '서울특별시 강남구 언주로30길 10 현대비젼21',\n",
              " '서울특별시 서초구 논현로 27',\n",
              " '서울특별시 서초구 강남대로37길 63',\n",
              " '서울 서초구 바우뫼로35길 3',\n",
              " '서울특별시 강남구 논현로38길 38-6']"
            ]
          },
          "metadata": {
            "tags": []
          },
          "execution_count": 54
        }
      ]
    },
    {
      "cell_type": "code",
      "metadata": {
        "colab": {
          "base_uri": "https://localhost:8080/",
          "height": 550
        },
        "id": "CX7CtmEatdqN",
        "outputId": "76fecfae-57e7-4967-f490-978fb6763285"
      },
      "source": [
        "df = pd.DataFrame({\n",
        "    '식당명':name_list, '평점':score_list, '메뉴':menu_list,\n",
        "    '전화번호':tel_list, '주소':addr_list\n",
        "})\n",
        "df.set_index('식당명')"
      ],
      "execution_count": 55,
      "outputs": [
        {
          "output_type": "execute_result",
          "data": {
            "text/html": [
              "<div>\n",
              "<style scoped>\n",
              "    .dataframe tbody tr th:only-of-type {\n",
              "        vertical-align: middle;\n",
              "    }\n",
              "\n",
              "    .dataframe tbody tr th {\n",
              "        vertical-align: top;\n",
              "    }\n",
              "\n",
              "    .dataframe thead th {\n",
              "        text-align: right;\n",
              "    }\n",
              "</style>\n",
              "<table border=\"1\" class=\"dataframe\">\n",
              "  <thead>\n",
              "    <tr style=\"text-align: right;\">\n",
              "      <th></th>\n",
              "      <th>평점</th>\n",
              "      <th>메뉴</th>\n",
              "      <th>전화번호</th>\n",
              "      <th>주소</th>\n",
              "    </tr>\n",
              "    <tr>\n",
              "      <th>식당명</th>\n",
              "      <th></th>\n",
              "      <th></th>\n",
              "      <th></th>\n",
              "      <th></th>\n",
              "    </tr>\n",
              "  </thead>\n",
              "  <tbody>\n",
              "    <tr>\n",
              "      <th>그릭슈바인 양재역점</th>\n",
              "      <td>3.6</td>\n",
              "      <td>나이트라이프 &gt; 맥주/호프</td>\n",
              "      <td>02-572-6100</td>\n",
              "      <td>서울특별시 서초구 강남대로 224</td>\n",
              "    </tr>\n",
              "    <tr>\n",
              "      <th>미스터브리즈 양재역점</th>\n",
              "      <td>3.4</td>\n",
              "      <td>세계음식 &gt; 카페/커피숍</td>\n",
              "      <td>02-576-4333</td>\n",
              "      <td>서울 서초구 강남대로34길 6</td>\n",
              "    </tr>\n",
              "    <tr>\n",
              "      <th>동신참치 양재역점</th>\n",
              "      <td>3</td>\n",
              "      <td>한국음식 &gt; 회</td>\n",
              "      <td>02-529-7130</td>\n",
              "      <td>서울 서초구 강남대로 213</td>\n",
              "    </tr>\n",
              "    <tr>\n",
              "      <th>새우닭 양재역점</th>\n",
              "      <td>평가중</td>\n",
              "      <td>세계음식 &gt; 씨푸드</td>\n",
              "      <td>02-575-6088</td>\n",
              "      <td>서울특별시 서초구 남부순환로356길 52  1층</td>\n",
              "    </tr>\n",
              "    <tr>\n",
              "      <th>양재역 옛날짜장</th>\n",
              "      <td>평가중</td>\n",
              "      <td>세계음식 &gt; 중국음식</td>\n",
              "      <td>031-503-2550</td>\n",
              "      <td>경기도 시흥시 공단1대로 13</td>\n",
              "    </tr>\n",
              "    <tr>\n",
              "      <th>영동족발 3호점</th>\n",
              "      <td>4.1</td>\n",
              "      <td>한국음식 &gt; 족발/보쌈</td>\n",
              "      <td>02-575-0250</td>\n",
              "      <td>서울특별시 서초구 남부순환로 2628-18</td>\n",
              "    </tr>\n",
              "    <tr>\n",
              "      <th>황재벌</th>\n",
              "      <td>3.9</td>\n",
              "      <td>한국음식 &gt; 장어구이/꼼장어</td>\n",
              "      <td>02-3471-5454</td>\n",
              "      <td>서울특별시 서초구 남부순환로347길 42-4 신화빌딩</td>\n",
              "    </tr>\n",
              "    <tr>\n",
              "      <th>김영모과자점 도곡타워점</th>\n",
              "      <td>4.1</td>\n",
              "      <td>세계음식 &gt; 베이커리/제과점</td>\n",
              "      <td>02-3460-2005</td>\n",
              "      <td>서울특별시 강남구 언주로30길 10 현대비젼21</td>\n",
              "    </tr>\n",
              "    <tr>\n",
              "      <th>소호정 본점</th>\n",
              "      <td>4</td>\n",
              "      <td>한국음식 &gt; 라면/칼국수/국수/수제비</td>\n",
              "      <td>02-579-7282</td>\n",
              "      <td>서울특별시 서초구 논현로 27</td>\n",
              "    </tr>\n",
              "    <tr>\n",
              "      <th>산동칼국수</th>\n",
              "      <td>3.9</td>\n",
              "      <td>한국음식 &gt; 라면/칼국수/국수/수제비</td>\n",
              "      <td>02-3473-7972</td>\n",
              "      <td>서울특별시 서초구 강남대로37길 63</td>\n",
              "    </tr>\n",
              "    <tr>\n",
              "      <th>양재정육식당</th>\n",
              "      <td>4.1</td>\n",
              "      <td>한국음식 &gt; 꽃등심/등심/육회</td>\n",
              "      <td>02-577-5804</td>\n",
              "      <td>서울 서초구 바우뫼로35길 3</td>\n",
              "    </tr>\n",
              "    <tr>\n",
              "      <th>스타쉐프</th>\n",
              "      <td>3.9</td>\n",
              "      <td>세계음식 &gt; 퓨전레스토랑</td>\n",
              "      <td>02-529-8248</td>\n",
              "      <td>서울특별시 강남구 논현로38길 38-6</td>\n",
              "    </tr>\n",
              "  </tbody>\n",
              "</table>\n",
              "</div>"
            ],
            "text/plain": [
              "               평점  ...                             주소\n",
              "식당명                ...                               \n",
              "그릭슈바인 양재역점    3.6  ...             서울특별시 서초구 강남대로 224\n",
              "미스터브리즈 양재역점   3.4  ...               서울 서초구 강남대로34길 6\n",
              "동신참치 양재역점       3  ...                서울 서초구 강남대로 213\n",
              "새우닭 양재역점      평가중  ...     서울특별시 서초구 남부순환로356길 52  1층\n",
              "양재역 옛날짜장      평가중  ...              경기도 시흥시 공단1대로 13 \n",
              "영동족발 3호점      4.1  ...        서울특별시 서초구 남부순환로 2628-18\n",
              "황재벌           3.9  ...  서울특별시 서초구 남부순환로347길 42-4 신화빌딩\n",
              "김영모과자점 도곡타워점  4.1  ...     서울특별시 강남구 언주로30길 10 현대비젼21\n",
              "소호정 본점          4  ...               서울특별시 서초구 논현로 27\n",
              "산동칼국수         3.9  ...           서울특별시 서초구 강남대로37길 63\n",
              "양재정육식당        4.1  ...               서울 서초구 바우뫼로35길 3\n",
              "스타쉐프          3.9  ...          서울특별시 강남구 논현로38길 38-6\n",
              "\n",
              "[12 rows x 4 columns]"
            ]
          },
          "metadata": {
            "tags": []
          },
          "execution_count": 55
        }
      ]
    },
    {
      "cell_type": "code",
      "metadata": {
        "id": "TCWH6Pdot2OM"
      },
      "source": [
        ""
      ],
      "execution_count": 48,
      "outputs": []
    }
  ]
}